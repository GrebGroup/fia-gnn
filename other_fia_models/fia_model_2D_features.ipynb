{
 "cells": [
  {
   "cell_type": "code",
   "execution_count": null,
   "id": "f595d891",
   "metadata": {},
   "outputs": [],
   "source": [
    "import json\n",
    "import pickle\n",
    "import pandas as pd  # 1.5.0\n",
    "import numpy as np  # 1.23.5\n",
    "import seaborn as sns  # 0.12.0\n",
    "import matplotlib.pyplot as plt  # 3.6.2\n",
    "import plotly.express as px  # 5.10.0\n",
    "import umap  # 0.5.3\n",
    "import shap  # 0.43.0\n",
    "shap.initjs()\n",
    "\n",
    "from rdkit import Chem  # 2023.03.3\n",
    "from rdkit.Chem import Descriptors\n",
    "from rdkit.ML.Descriptors import MoleculeDescriptors\n",
    "\n",
    "from mordred import Calculator, descriptors  # 1.2.0\n",
    "\n",
    "from sklearn.preprocessing import StandardScaler  # 1.2.2\n",
    "from sklearn.linear_model import Lasso, LassoCV\n",
    "from sklearn.metrics import mean_absolute_error\n",
    "from sklearn.cross_decomposition import PLSRegression\n",
    "from scipy.stats import pearsonr  # 1.9.1\n",
    "from lightgbm import LGBMRegressor  # 4.0.0\n",
    "\n",
    "from tqdm.auto import tqdm"
   ]
  },
  {
   "cell_type": "markdown",
   "id": "2a931e38",
   "metadata": {},
   "source": [
    "#### Content\n",
    "1) Feature generation  \n",
    "2) First feature selection  \n",
    "3) Second Feature selection  \n",
    "4) Dimensionality reduction with PLS and UMAP  \n",
    "5) LGBMRegressor  \n",
    "6) SHAP analysis  \n",
    "7) Analysis of the BCUTpe-1l descriptor  \n",
    "  \n",
    "*Each chapter can be executed independently from the others.*"
   ]
  },
  {
   "cell_type": "markdown",
   "id": "5d7e3e3e",
   "metadata": {},
   "source": [
    "# 1) Feature generation"
   ]
  },
  {
   "cell_type": "markdown",
   "id": "40306589",
   "metadata": {},
   "source": [
    "##### 1a) Read data"
   ]
  },
  {
   "cell_type": "code",
   "execution_count": null,
   "id": "3e464f1e",
   "metadata": {},
   "outputs": [],
   "source": [
    "# Read csv file.\n",
    "\n",
    "df = pd.read_csv(r\"F:\\FIA_GENERATION\\for_publication\\FINAL\\FIA49k.csv.gz\")\n",
    "df.shape"
   ]
  },
  {
   "cell_type": "code",
   "execution_count": null,
   "id": "7958c2c2",
   "metadata": {},
   "outputs": [],
   "source": [
    "# Formatting.\n",
    "\n",
    "descriptor_df = df[[\"Compound\", \"la_smiles\"]]\n",
    "descriptor_df = descriptor_df.set_index(\"Compound\")\n",
    "descriptor_df.shape"
   ]
  },
  {
   "cell_type": "markdown",
   "id": "d402d9c8",
   "metadata": {},
   "source": [
    "##### 1b) Calculate features"
   ]
  },
  {
   "cell_type": "code",
   "execution_count": null,
   "id": "8c52dd04",
   "metadata": {},
   "outputs": [],
   "source": [
    "# Set up results dictionary.\n",
    "\n",
    "df_dict = descriptor_df.to_dict(orient=\"index\")"
   ]
  },
  {
   "cell_type": "code",
   "execution_count": null,
   "id": "719b8f38",
   "metadata": {},
   "outputs": [],
   "source": [
    "# Run the feature calculation with mordred and RDKit.\n",
    "# Hydrogen atoms are added before features are calculated after generating the mol objects from SMILES strings.\n",
    "\n",
    "for compound in tqdm(df_dict):\n",
    "    mol = Chem.MolFromSmiles(df_dict[compound][\"la_smiles\"])\n",
    "    mol = Chem.AddHs(mol)\n",
    "    \n",
    "    # mordred\n",
    "    calc_mordred = Calculator(descriptors, ignore_3D=True)\n",
    "    for idx, value in enumerate(calc_mordred(mol)):\n",
    "        df_dict[compound][f\"mordred__{calc_mordred.descriptors[idx]}\"] = value\n",
    "    \n",
    "    # rdkit\n",
    "    calc_rdkit = MoleculeDescriptors.MolecularDescriptorCalculator([x[0] for x in Descriptors._descList])\n",
    "    rdkit_descriptor_names = calc_rdkit.GetDescriptorNames()\n",
    "    rdkit_descriptors = calc_rdkit.CalcDescriptors(mol)\n",
    "    for name, value in zip(rdkit_descriptor_names, rdkit_descriptors):\n",
    "        df_dict[compound][f\"rdkit__{name}\"] = value"
   ]
  },
  {
   "cell_type": "markdown",
   "id": "142d6c36",
   "metadata": {},
   "source": [
    "##### 1c) Save data"
   ]
  },
  {
   "cell_type": "code",
   "execution_count": null,
   "id": "b2de3c56",
   "metadata": {},
   "outputs": [],
   "source": [
    "# Delete SMILES strings from results.\n",
    "\n",
    "for compound in df_dict:\n",
    "    del df_dict[compound][\"la_smiles\"]"
   ]
  },
  {
   "cell_type": "code",
   "execution_count": null,
   "id": "e414158c",
   "metadata": {},
   "outputs": [],
   "source": [
    "# Create results data frame.\n",
    "\n",
    "final_df = pd.DataFrame(df_dict).T\n",
    "final_df.shape"
   ]
  },
  {
   "cell_type": "code",
   "execution_count": null,
   "id": "67f0fc82",
   "metadata": {},
   "outputs": [],
   "source": [
    "# Formatting.\n",
    "\n",
    "final_df = final_df.reset_index().rename(columns={\"index\": \"Compound\"}) \n",
    "final_df"
   ]
  },
  {
   "cell_type": "code",
   "execution_count": null,
   "id": "fe1cad7c",
   "metadata": {},
   "outputs": [],
   "source": [
    "# Save results to csv file.\n",
    "\n",
    "final_df.to_csv(\"FIA_DATA_49015_mol_descriptors.csv\", index=False)"
   ]
  },
  {
   "cell_type": "markdown",
   "id": "35de5224",
   "metadata": {},
   "source": [
    "# 2) First feature selection"
   ]
  },
  {
   "cell_type": "markdown",
   "id": "fc40f232",
   "metadata": {},
   "source": [
    "##### 2a) Read data"
   ]
  },
  {
   "cell_type": "code",
   "execution_count": null,
   "id": "119509f0",
   "metadata": {},
   "outputs": [],
   "source": [
    "# Read csv files.\n",
    "\n",
    "df = pd.read_csv(r\"F:\\FIA_GENERATION\\for_publication\\FINAL\\FIA49k_2d_descriptors.csv.gz\", low_memory=False)\n",
    "df2 = pd.read_csv(r\"F:\\FIA_GENERATION\\for_publication\\FINAL\\FIA49k.csv.gz\")\n",
    "\n",
    "df.shape, df2.shape"
   ]
  },
  {
   "cell_type": "code",
   "execution_count": null,
   "id": "b59a5961",
   "metadata": {},
   "outputs": [],
   "source": [
    "# Formatting.\n",
    "\n",
    "df = df.merge(df2[[\"Compound\", \"set_assignment\"]], on=\"Compound\")\n",
    "df.shape"
   ]
  },
  {
   "cell_type": "code",
   "execution_count": null,
   "id": "7da604b7",
   "metadata": {},
   "outputs": [],
   "source": [
    "# Set up train data frame.\n",
    "\n",
    "train_df = df[df[\"set_assignment\"]==\"train\"]\n",
    "train_df.shape"
   ]
  },
  {
   "cell_type": "code",
   "execution_count": null,
   "id": "920aef1d",
   "metadata": {},
   "outputs": [],
   "source": [
    "# These columns should not be removed during feature selection (see below).\n",
    "\n",
    "keep = [\"Compound\", \"set_assignment\"]"
   ]
  },
  {
   "cell_type": "markdown",
   "id": "6f1159fe",
   "metadata": {},
   "source": [
    "##### 2b) Get columns which have strings in them which cannot be converted to floats, done with full df"
   ]
  },
  {
   "cell_type": "code",
   "execution_count": null,
   "id": "30ee17fd",
   "metadata": {},
   "outputs": [],
   "source": [
    "# Go through all columns and look for integer and float instances.\n",
    "\n",
    "unwanted_dict = dict(df.applymap(lambda x: isinstance(x, (int, float))).all())"
   ]
  },
  {
   "cell_type": "code",
   "execution_count": null,
   "id": "34cddcfb",
   "metadata": {},
   "outputs": [],
   "source": [
    "# Set up results dictionary; these colums should be removed.\n",
    "\n",
    "unwanted_columns = {key: \"does not contain numbers only\" for key in unwanted_dict if not unwanted_dict[key]}\n",
    "len(unwanted_columns)"
   ]
  },
  {
   "cell_type": "markdown",
   "id": "b1fcf653",
   "metadata": {},
   "source": [
    "##### 2c) Get columns which have inf values, done with full df"
   ]
  },
  {
   "cell_type": "code",
   "execution_count": null,
   "id": "611e24d4",
   "metadata": {},
   "outputs": [],
   "source": [
    "# Get columns which should be removed.\n",
    "\n",
    "helper_df = df[[x for x in unwanted_dict if unwanted_dict[x] == True]].astype(np.float32)\n",
    "\n",
    "for col, is_inf in zip(helper_df.columns, helper_df.isin([np.inf]).any()):\n",
    "    if is_inf is True:\n",
    "        if col not in unwanted_columns:\n",
    "            unwanted_columns[col] = \"has inf values\"\n",
    "len(unwanted_columns)"
   ]
  },
  {
   "cell_type": "markdown",
   "id": "a65881cf",
   "metadata": {},
   "source": [
    "##### 2d) Get columns which have NaN values, done with full df"
   ]
  },
  {
   "cell_type": "code",
   "execution_count": null,
   "id": "29975cf1",
   "metadata": {},
   "outputs": [],
   "source": [
    "# Get columns which should be removed.\n",
    "\n",
    "for col, is_nan in zip(df.columns, df.isna().any()):\n",
    "    if is_nan is True:\n",
    "        if col not in unwanted_columns:\n",
    "            unwanted_columns[col] = \"has NaN values\"\n",
    "len(unwanted_columns)"
   ]
  },
  {
   "cell_type": "markdown",
   "id": "c6fa0ef0",
   "metadata": {},
   "source": [
    "##### 2e) Get columns which only have one unique value, done with train_df"
   ]
  },
  {
   "cell_type": "code",
   "execution_count": null,
   "id": "3f61e6c0",
   "metadata": {},
   "outputs": [],
   "source": [
    "# Get columns which should be removed.\n",
    "\n",
    "for col in train_df.columns[train_df.nunique()==1]:\n",
    "    if col not in unwanted_columns:\n",
    "        unwanted_columns[col] = \"nunique()==1\"\n",
    "len(unwanted_columns)"
   ]
  },
  {
   "cell_type": "markdown",
   "id": "ab34f4db",
   "metadata": {},
   "source": [
    "##### 2f) Remove columns which were so far selected for elimination"
   ]
  },
  {
   "cell_type": "code",
   "execution_count": null,
   "id": "fb6298a3",
   "metadata": {},
   "outputs": [],
   "source": [
    "# Remove columns except for those specified in the keep list.\n",
    "\n",
    "df = df.filter([col for col in df.columns if col not in unwanted_columns.keys() or col in keep], axis=1)\n",
    "df.shape"
   ]
  },
  {
   "cell_type": "code",
   "execution_count": null,
   "id": "2b30e89d",
   "metadata": {},
   "outputs": [],
   "source": [
    "# Also remove the columns from the train data frame.\n",
    "\n",
    "train_df = df[df[\"set_assignment\"]==\"train\"]\n",
    "train_df.shape"
   ]
  },
  {
   "cell_type": "markdown",
   "id": "dc006f78",
   "metadata": {},
   "source": [
    "##### 2g) Check linear correlation between features"
   ]
  },
  {
   "cell_type": "code",
   "execution_count": null,
   "id": "afcbe513",
   "metadata": {},
   "outputs": [],
   "source": [
    "# Formatting.\n",
    "\n",
    "to_be_droped = [col for col in train_df.columns if all([\"mordred__\" not in col, \"rdkit__\" not in col, col != \"Compound\"])]\n",
    "\n",
    "df_2 = train_df.drop(to_be_droped, axis=1)\n",
    "df_2 = df_2.set_index(\"Compound\")\n",
    "df_2.shape"
   ]
  },
  {
   "cell_type": "code",
   "execution_count": null,
   "id": "73070e74",
   "metadata": {},
   "outputs": [],
   "source": [
    "# Calculate pairwise correlation data frame.\n",
    "\n",
    "df_corr = df_2.corr()\n",
    "df_corr.shape"
   ]
  },
  {
   "cell_type": "code",
   "execution_count": null,
   "id": "8dbd7195",
   "metadata": {},
   "outputs": [],
   "source": [
    "# Identify all columns which should be removed.\n",
    "\n",
    "unwanted = []\n",
    "\n",
    "CUTOFF = 0.8\n",
    "\n",
    "for f1 in df_corr:\n",
    "    if f1 not in unwanted:\n",
    "        for idx, value in enumerate(df_corr[f1]):\n",
    "            f2 = df_corr.columns[idx]\n",
    "            if f1 != f2:\n",
    "                if abs(value) > CUTOFF and f2 not in unwanted:\n",
    "                    unwanted.append(f2)\n",
    "len(unwanted)"
   ]
  },
  {
   "cell_type": "markdown",
   "id": "bd53e1e7",
   "metadata": {},
   "source": [
    "##### 2h) Remove columns which were selected for elimination"
   ]
  },
  {
   "cell_type": "code",
   "execution_count": null,
   "id": "cd533a71",
   "metadata": {},
   "outputs": [],
   "source": [
    "# Remove columns except for those specified in the keep list.\n",
    "\n",
    "keep = [\"Compound\"]\n",
    "unwanted.append(\"set_assignment\")\n",
    "df = df.filter([col for col in df.columns if col not in unwanted or col in keep], axis=1)\n",
    "df.shape"
   ]
  },
  {
   "cell_type": "markdown",
   "id": "1d7c9c31",
   "metadata": {},
   "source": [
    "##### 2i) Save data"
   ]
  },
  {
   "cell_type": "code",
   "execution_count": null,
   "id": "f01c7892",
   "metadata": {},
   "outputs": [],
   "source": [
    "with open(\"FIA49k_2d_descriptors_selection.json\", \"w\") as f:\n",
    "    json.dump({\"first_feature_selection\": [col for col in df.columns]}, f, indent=4)"
   ]
  },
  {
   "cell_type": "markdown",
   "id": "b0eabd54",
   "metadata": {},
   "source": [
    "# 3) Second Feature selection"
   ]
  },
  {
   "cell_type": "markdown",
   "id": "f68cdf08",
   "metadata": {},
   "source": [
    "##### 3a) Read and prepare data"
   ]
  },
  {
   "cell_type": "code",
   "execution_count": null,
   "id": "18b8c7c8",
   "metadata": {},
   "outputs": [],
   "source": [
    "# Read files.\n",
    "\n",
    "with open(r\"F:\\FIA_GENERATION\\for_publication\\FINAL\\FIA49k_2d_descriptors_selection.json\", \"r\") as f:\n",
    "    first_selection = json.load(f)[\"first_feature_selection\"]\n",
    "\n",
    "final_df = pd.read_csv(r\"F:\\FIA_GENERATION\\for_publication\\FINAL\\FIA49k_2d_descriptors.csv.gz\", low_memory=False)\n",
    "final_df = final_df.drop([col for col in final_df.columns if col not in first_selection], axis=1)\n",
    "\n",
    "df2 = pd.read_csv(r\"F:\\FIA_GENERATION\\for_publication\\FINAL\\FIA49k.csv.gz\")\n",
    "\n",
    "final_df.shape, df2.shape, len(first_selection)"
   ]
  },
  {
   "cell_type": "code",
   "execution_count": null,
   "id": "98baf7ff",
   "metadata": {},
   "outputs": [],
   "source": [
    "# Formatting.\n",
    "\n",
    "final_df = final_df.merge(df2[[\n",
    "    \"Compound\", \n",
    "    \"set_assignment\",\n",
    "    \"fia_gas-DSDBLYP\",\n",
    "    \"fia_solv-DSDBLYP\"]], on=\"Compound\")\n",
    "final_df = final_df.sample(frac=1, random_state=100)\n",
    "final_df.shape"
   ]
  },
  {
   "cell_type": "code",
   "execution_count": null,
   "id": "6df749ff",
   "metadata": {},
   "outputs": [],
   "source": [
    "# Set up train and test data frames.\n",
    "\n",
    "X_train = final_df.loc[final_df[\"set_assignment\"] == \"train\"]\n",
    "X_test = final_df.loc[final_df[\"set_assignment\"] == \"test\"]\n",
    "\n",
    "y_train_gas = X_train[\"fia_gas-DSDBLYP\"]\n",
    "y_train_solv = X_train[\"fia_solv-DSDBLYP\"]\n",
    "\n",
    "y_test_gas = X_test[\"fia_gas-DSDBLYP\"]\n",
    "y_test_solv = X_test[\"fia_solv-DSDBLYP\"]\n",
    "\n",
    "compounds_train = list(X_train[\"Compound\"])\n",
    "compounds_test = list(X_test[\"Compound\"])\n",
    "\n",
    "to_be_droped = [col for col in list(final_df.columns) if all([\"mordred__\" not in col, \"rdkit__\" not in col])]"
   ]
  },
  {
   "cell_type": "code",
   "execution_count": null,
   "id": "4ac02f62",
   "metadata": {},
   "outputs": [],
   "source": [
    "# Drop all columns which are not feature columns.\n",
    "\n",
    "X_train = X_train.drop(to_be_droped, axis=1)\n",
    "X_test = X_test.drop(to_be_droped, axis=1)\n",
    "\n",
    "X_train.shape, X_test.shape"
   ]
  },
  {
   "cell_type": "markdown",
   "id": "77e59b22",
   "metadata": {},
   "source": [
    "##### 3b) Standard-scale features"
   ]
  },
  {
   "cell_type": "code",
   "execution_count": null,
   "id": "9a825f49",
   "metadata": {},
   "outputs": [],
   "source": [
    "# Feature preprocessing.\n",
    "\n",
    "feature_names = list(X_train.columns)\n",
    "\n",
    "scaler = StandardScaler()\n",
    "scaler.fit(X_train)\n",
    "\n",
    "X_train = scaler.transform(X_train)\n",
    "X_test = scaler.transform(X_test)"
   ]
  },
  {
   "cell_type": "markdown",
   "id": "3a743758",
   "metadata": {},
   "source": [
    "##### 3c) Do LassoCV"
   ]
  },
  {
   "cell_type": "code",
   "execution_count": null,
   "id": "000b460f",
   "metadata": {},
   "outputs": [],
   "source": [
    "# Do LassoCV.\n",
    "\n",
    "lasso = LassoCV(\n",
    "    n_alphas=500,\n",
    "    max_iter=10000,\n",
    "    cv=5, \n",
    "    random_state=0,\n",
    "    verbose=1,\n",
    "    n_jobs=-1\n",
    ")\n",
    "\n",
    "lasso.fit(X_train, y_train_solv)"
   ]
  },
  {
   "cell_type": "code",
   "execution_count": null,
   "id": "b36904b8",
   "metadata": {},
   "outputs": [],
   "source": [
    "# Get results and train a final Lasso model (not required).\n",
    "\n",
    "best_alpha = lasso.alpha_\n",
    "print(f\"Found alpha value: {best_alpha}\")\n",
    "\n",
    "model = Lasso(alpha=best_alpha)\n",
    "model.fit(X_train, y_train_solv)"
   ]
  },
  {
   "cell_type": "code",
   "execution_count": null,
   "id": "3c7f2c18",
   "metadata": {},
   "outputs": [],
   "source": [
    "# Get and visualize prediction results (not relevant).\n",
    "\n",
    "predictions = model.predict(X_test)\n",
    "\n",
    "print(f\"MAE: {round(mean_absolute_error(y_test_solv, predictions), 2)} kJ/mol\")\n",
    "print(f\"r2: {round(pearsonr(y_test_gas, predictions)[0]**2, 4)}\")\n",
    "\n",
    "fig = sns.scatterplot(\n",
    "    x=y_test_solv,\n",
    "    y=predictions\n",
    ")\n",
    "\n",
    "fig.set(\n",
    "    xlabel=\"FIA calculated by DFT [kJ/mol]\",\n",
    "    ylabel=\"FIA prediction [kJ/mol]\",\n",
    "    title=\"Predicted FIA vs. DFT FIA\"\n",
    ")\n",
    "fig"
   ]
  },
  {
   "cell_type": "markdown",
   "id": "6d77a08d",
   "metadata": {},
   "source": [
    "##### 3d) Do feature selection"
   ]
  },
  {
   "cell_type": "code",
   "execution_count": null,
   "id": "9f8dd079",
   "metadata": {},
   "outputs": [],
   "source": [
    "# Set up feature importance data frame.\n",
    "\n",
    "importance_df = pd.DataFrame({\"Feature\": feature_names, \"Importance\": abs(model.coef_)})\n",
    "importance_df = importance_df.sort_values(by=\"Importance\", ascending=False)\n",
    "\n",
    "print(f\"n features:                  {len(feature_names)}\")\n",
    "print(f\"n features with coef <0.1:   {len(importance_df[importance_df.Importance<0.1])}\")"
   ]
  },
  {
   "cell_type": "code",
   "execution_count": null,
   "id": "314f0a6c",
   "metadata": {},
   "outputs": [],
   "source": [
    "# Inspect feature importances.\n",
    "\n",
    "for _, data in importance_df.iterrows():\n",
    "    print(data.Importance, \"\\t\", data.Feature)"
   ]
  },
  {
   "cell_type": "code",
   "execution_count": null,
   "id": "e41c237c",
   "metadata": {},
   "outputs": [],
   "source": [
    "# Prepare list of columns which should be removed.\n",
    "\n",
    "unwanted = list(importance_df[importance_df.Importance<0.1].Feature)\n",
    "\n",
    "unwanted.append(\"set_assignment\")\n",
    "unwanted.append(\"fia_gas-DSDBLYP\")\n",
    "unwanted.append(\"fia_solv-DSDBLYP\")"
   ]
  },
  {
   "cell_type": "code",
   "execution_count": null,
   "id": "5816d32c",
   "metadata": {},
   "outputs": [],
   "source": [
    "# Remove columns.\n",
    "\n",
    "final_df = final_df.filter([col for col in final_df.columns if col not in unwanted], axis=1)\n",
    "final_df = final_df.sort_values(by=\"Compound\")\n",
    "final_df.shape"
   ]
  },
  {
   "cell_type": "markdown",
   "id": "c3441231",
   "metadata": {},
   "source": [
    "##### 3e) Save data"
   ]
  },
  {
   "cell_type": "code",
   "execution_count": null,
   "id": "53ab86a3",
   "metadata": {},
   "outputs": [],
   "source": [
    "# Save data to json file.\n",
    "\n",
    "with open(r\"F:\\FIA_GENERATION\\for_publication\\FINAL\\FIA49k_2d_descriptors_selection.json\", \"w\") as f:\n",
    "    json.dump({\"second_feature_selection\": list(final_df.columns)}, f, indent=4)"
   ]
  },
  {
   "cell_type": "markdown",
   "id": "25ff3ece",
   "metadata": {},
   "source": [
    "# 4) Dimensionality reduction with PLS and UMAP"
   ]
  },
  {
   "cell_type": "markdown",
   "id": "df6927f1",
   "metadata": {},
   "source": [
    "##### 4a) Load data"
   ]
  },
  {
   "cell_type": "code",
   "execution_count": null,
   "id": "1fe5d8a7",
   "metadata": {},
   "outputs": [],
   "source": [
    "# Read files.\n",
    "\n",
    "with open(r\"F:\\FIA_GENERATION\\for_publication\\FINAL\\FIA49k_2d_descriptors_selection.json\", \"r\") as f:\n",
    "    selected_features = json.load(f)[\"second_feature_selection\"]\n",
    "\n",
    "df = pd.read_csv(r\"F:\\FIA_GENERATION\\for_publication\\FINAL\\FIA49k_2d_descriptors.csv.gz\", low_memory=False)\n",
    "df = df.drop([col for col in df.columns if col not in selected_features], axis=1)\n",
    "\n",
    "df2 = pd.read_csv(r\"F:\\FIA_GENERATION\\for_publication\\FINAL\\FIA49k.csv.gz\")\n",
    "\n",
    "len(selected_features), df.shape, df2.shape"
   ]
  },
  {
   "cell_type": "code",
   "execution_count": null,
   "id": "7ce9373e",
   "metadata": {},
   "outputs": [],
   "source": [
    "# Reduce the data set to the train and test set.\n",
    "\n",
    "df2 = df2[df2[\"set_assignment\"].isin([\"train\", \"test\"])]\n",
    "df = df[df[\"Compound\"].isin(df2.Compound)]\n",
    "\n",
    "df.shape, df2.shape"
   ]
  },
  {
   "cell_type": "code",
   "execution_count": null,
   "id": "6b83aaf5",
   "metadata": {},
   "outputs": [],
   "source": [
    "# Formatting.\n",
    "\n",
    "df = df.sort_values(by=\"Compound\")\n",
    "df2 = df2.sort_values(by=\"Compound\")\n",
    "\n",
    "for name1, name2 in zip(df.Compound, df2.Compound):\n",
    "    if name1 != name2:\n",
    "        print(\"Error\")\n",
    "\n",
    "df = df.reset_index(drop=True)\n",
    "df2 = df2.reset_index(drop=True)\n",
    "\n",
    "df.shape, df2.shape"
   ]
  },
  {
   "cell_type": "code",
   "execution_count": null,
   "id": "5257d379",
   "metadata": {},
   "outputs": [],
   "source": [
    "# Set up train data frames.\n",
    "\n",
    "df2_train = df2.loc[df2[\"set_assignment\"] == \"train\"]\n",
    "df_train = df[df[\"Compound\"].isin(df2_train.Compound)]\n",
    "\n",
    "df_train.shape, df2_train.shape"
   ]
  },
  {
   "cell_type": "code",
   "execution_count": null,
   "id": "146ec25c",
   "metadata": {},
   "outputs": [],
   "source": [
    "# Check if data frames have same order.\n",
    "\n",
    "df_train = df_train.sort_values(by=\"Compound\")\n",
    "df2_train = df2_train.sort_values(by=\"Compound\")\n",
    "\n",
    "for name1, name2 in zip(df_train.Compound, df2_train.Compound):\n",
    "    if name1 != name2:\n",
    "        print(\"Error\")\n",
    "\n",
    "df_train = df_train.reset_index(drop=True)\n",
    "df2_train = df2_train.reset_index(drop=True)\n",
    "\n",
    "df_train.shape, df2_train.shape"
   ]
  },
  {
   "cell_type": "markdown",
   "id": "edfe9a78",
   "metadata": {},
   "source": [
    "##### 4b) Do supervised PLS regression"
   ]
  },
  {
   "cell_type": "code",
   "execution_count": null,
   "id": "a16ff5be",
   "metadata": {},
   "outputs": [],
   "source": [
    "# Train PLS reducers with the full feature space.\n",
    "\n",
    "pls_reducer_gas = PLSRegression(n_components=25)\n",
    "pls_reducer_gas.fit(\n",
    "    df_train.drop([\"Compound\"], axis=1),\n",
    "    df2_train[\"fia_gas-DSDBLYP\"]\n",
    ")\n",
    "\n",
    "pls_reducer_solv = PLSRegression(n_components=25)\n",
    "pls_reducer_solv.fit(\n",
    "    df_train.drop([\"Compound\"], axis=1),\n",
    "    df2_train[\"fia_solv-DSDBLYP\"]\n",
    ")"
   ]
  },
  {
   "cell_type": "code",
   "execution_count": null,
   "id": "11abaea3",
   "metadata": {},
   "outputs": [],
   "source": [
    "# Get PLS embeddings for the train set.\n",
    "\n",
    "pls_embedding_train_gas = pls_reducer_gas.transform(df_train.drop([\"Compound\"], axis=1))\n",
    "\n",
    "pls_embedding_train_solv = pls_reducer_solv.transform(df_train.drop([\"Compound\"], axis=1))"
   ]
  },
  {
   "cell_type": "markdown",
   "id": "95d26929",
   "metadata": {},
   "source": [
    "##### 4c) Do UMAP"
   ]
  },
  {
   "cell_type": "code",
   "execution_count": null,
   "id": "54dd88d2",
   "metadata": {},
   "outputs": [],
   "source": [
    "# Train UMAP reducer with the PLS embeddings of the train set.\n",
    "\n",
    "umap_reducer_gas = umap.UMAP(random_state=42)\n",
    "umap_reducer_gas.fit(pls_embedding_train_gas)\n",
    "print(\"Reducer_gas done.\")\n",
    "\n",
    "umap_reducer_solv = umap.UMAP(random_state=42)\n",
    "umap_reducer_solv.fit(pls_embedding_train_solv)\n",
    "print(\"Reducer_solv done.\")"
   ]
  },
  {
   "cell_type": "code",
   "execution_count": null,
   "id": "7112f2bd",
   "metadata": {},
   "outputs": [],
   "source": [
    "# Get UMAP embeddings for the entire data set.\n",
    "\n",
    "umap_embedding_gas = umap_reducer_gas.transform(pls_reducer_gas.transform(df.drop([\"Compound\"], axis=1)))\n",
    "\n",
    "umap_embedding_solv = umap_reducer_solv.transform(pls_reducer_solv.transform(df.drop([\"Compound\"], axis=1)))"
   ]
  },
  {
   "cell_type": "code",
   "execution_count": null,
   "id": "30762a86",
   "metadata": {},
   "outputs": [],
   "source": [
    "# Formatting.\n",
    "\n",
    "df2[\"PLS-UMAP_1_gas\"] = list(umap_embedding_gas[:,0])\n",
    "df2[\"PLS-UMAP_2_gas\"] = list(umap_embedding_gas[:,1])\n",
    "\n",
    "df2[\"PLS-UMAP_1_solv\"] = list(umap_embedding_solv[:,0])\n",
    "df2[\"PLS-UMAP_2_solv\"] = list(umap_embedding_solv[:,1])"
   ]
  },
  {
   "cell_type": "code",
   "execution_count": null,
   "id": "8aa857f6",
   "metadata": {},
   "outputs": [],
   "source": [
    "# Make figure (gas).\n",
    "\n",
    "plt.rcParams['figure.dpi'] = 300\n",
    "\n",
    "order = [\n",
    "    \"B(III)\", \"Al(III)\", \"Ga(III)\", \"In(III)\", \n",
    "    \"Si(II)\", \"Ge(II)\", \"Sn(II)\", \"Pb(II)\",\n",
    "    \"Si(IV)\", \"Ge(IV)\", \"Sn(IV)\", \"Pb(IV)\",\n",
    "    \"P(III)\", \"As(III)\", \"Sb(III)\", \"Bi(III)\", \n",
    "    \"P(V)\", \"As(V)\", \"Sb(V)\", \"Bi(V)\",\n",
    "    \"Te(IV)\"\n",
    "]\n",
    "\n",
    "ax = sns.scatterplot(\n",
    "    data=df2,\n",
    "    x=\"PLS-UMAP_1_gas\",\n",
    "    y=\"PLS-UMAP_2_gas\",\n",
    "    hue=\"ca_class\",\n",
    "    palette=px.colors.qualitative.Alphabet,\n",
    "    hue_order=order,\n",
    "    alpha=0.6\n",
    ")\n",
    "\n",
    "ax.legend_.remove()\n",
    "# sns.move_legend(ax, \"lower center\", ncol=7, title=\"Central atom class\", fontsize=\"small\", handletextpad=0, columnspacing=1)\n",
    "\n",
    "ax.set_xlabel(\"UMAP 1\", size=14)\n",
    "ax.set_ylabel(\"UMAP 2\", size=14)\n",
    "\n",
    "ax.set(xticklabels=[])\n",
    "ax.set(yticklabels=[])\n",
    "ax.tick_params(left=False, bottom=False)\n",
    "\n",
    "ax.collections[0].set_sizes([10])\n",
    "\n",
    "ax"
   ]
  },
  {
   "cell_type": "code",
   "execution_count": null,
   "id": "ee6eea9a",
   "metadata": {},
   "outputs": [],
   "source": [
    "# Make figure (gas).\n",
    "\n",
    "plt.rcParams['figure.dpi'] = 300\n",
    "\n",
    "order = [\n",
    "    \"B(III)\", \"Al(III)\", \"Ga(III)\", \"In(III)\", \n",
    "    \"Si(II)\", \"Ge(II)\", \"Sn(II)\", \"Pb(II)\",\n",
    "    \"Si(IV)\", \"Ge(IV)\", \"Sn(IV)\", \"Pb(IV)\",\n",
    "    \"P(III)\", \"As(III)\", \"Sb(III)\", \"Bi(III)\", \n",
    "    \"P(V)\", \"As(V)\", \"Sb(V)\", \"Bi(V)\",\n",
    "    \"Te(IV)\"\n",
    "]\n",
    "\n",
    "ax = sns.scatterplot(\n",
    "    data=df2,\n",
    "    x=\"PLS-UMAP_1_solv\",\n",
    "    y=\"PLS-UMAP_2_solv\",\n",
    "    hue=\"ca_class\",\n",
    "    palette=px.colors.qualitative.Alphabet,\n",
    "    hue_order=order,\n",
    "    alpha=0.6\n",
    ")\n",
    "\n",
    "# ax.legend_.remove()\n",
    "sns.move_legend(ax, \"lower center\", ncol=7, title=\"Central atom class\", fontsize=\"small\", handletextpad=0, columnspacing=1)\n",
    "\n",
    "ax.set_xlabel(\"UMAP 1\", size=14)\n",
    "ax.set_ylabel(\"UMAP 2\", size=14)\n",
    "\n",
    "ax.set(xticklabels=[])\n",
    "ax.set(yticklabels=[])\n",
    "ax.tick_params(left=False, bottom=False)\n",
    "\n",
    "ax.collections[0].set_sizes([10])\n",
    "\n",
    "plt.ylim(-10, 15)\n",
    "\n",
    "ax"
   ]
  },
  {
   "cell_type": "code",
   "execution_count": null,
   "id": "e539c77e",
   "metadata": {},
   "outputs": [],
   "source": [
    "px.scatter(\n",
    "    df2,\n",
    "    x=\"PLS-UMAP_1_gas\",\n",
    "    y=\"PLS-UMAP_2_gas\",\n",
    "    color=\"ca_class\",\n",
    "    color_discrete_sequence=px.colors.qualitative.Dark24\n",
    ")"
   ]
  },
  {
   "cell_type": "markdown",
   "id": "5db30a5c",
   "metadata": {},
   "source": [
    "# 5) LGBMRegressor"
   ]
  },
  {
   "cell_type": "markdown",
   "id": "ead4c821",
   "metadata": {},
   "source": [
    "##### 5a) Load and prepare data"
   ]
  },
  {
   "cell_type": "code",
   "execution_count": null,
   "id": "768dd4b6",
   "metadata": {},
   "outputs": [],
   "source": [
    "# Read files.\n",
    "\n",
    "with open(r\"F:\\FIA_GENERATION\\for_publication\\FINAL\\FIA49k_2d_descriptors_selection.json\", \"r\") as f:\n",
    "    selected_features = json.load(f)[\"second_feature_selection\"]\n",
    "\n",
    "final_df = pd.read_csv(r\"F:\\FIA_GENERATION\\for_publication\\FINAL\\FIA49k_2d_descriptors.csv.gz\", low_memory=False)\n",
    "final_df = final_df.drop([col for col in final_df.columns if col not in selected_features], axis=1)\n",
    "\n",
    "df2 = pd.read_csv(r\"F:\\FIA_GENERATION\\for_publication\\FINAL\\FIA49k.csv.gz\")\n",
    "\n",
    "len(selected_features), final_df.shape, df2.shape"
   ]
  },
  {
   "cell_type": "code",
   "execution_count": null,
   "id": "2a88dd34",
   "metadata": {},
   "outputs": [],
   "source": [
    "# Formatting.\n",
    "\n",
    "final_df = final_df.merge(df2[[\"Compound\", \"set_assignment\", \"fia_gas-DSDBLYP\", \"fia_solv-DSDBLYP\"]], on=\"Compound\")\n",
    "final_df.shape"
   ]
  },
  {
   "cell_type": "code",
   "execution_count": null,
   "id": "017d561a",
   "metadata": {},
   "outputs": [],
   "source": [
    "# Set up train, validation, and test data frames.\n",
    "\n",
    "X_train = final_df.loc[final_df[\"set_assignment\"] == \"train\"]\n",
    "X_validate = final_df.loc[final_df[\"set_assignment\"] == \"validate\"]\n",
    "X_test = final_df.loc[final_df[\"set_assignment\"] == \"test\"]\n",
    "\n",
    "y_train_gas = X_train[\"fia_gas-DSDBLYP\"]\n",
    "y_train_solv = X_train[\"fia_solv-DSDBLYP\"]\n",
    "\n",
    "y_validate_gas = X_validate[\"fia_gas-DSDBLYP\"]\n",
    "y_validate_solv = X_validate[\"fia_solv-DSDBLYP\"]\n",
    "\n",
    "y_test_gas = X_test[\"fia_gas-DSDBLYP\"]\n",
    "y_test_solv = X_test[\"fia_solv-DSDBLYP\"]\n",
    "\n",
    "compounds_train = list(X_train[\"Compound\"])\n",
    "compounds_validate = list(X_validate[\"Compound\"])\n",
    "compounds_test = list(X_test[\"Compound\"])\n",
    "\n",
    "to_be_droped = [col for col in list(final_df.columns) if all([\"mordred__\" not in col, \"rdkit__\" not in col])]"
   ]
  },
  {
   "cell_type": "code",
   "execution_count": null,
   "id": "753b5188",
   "metadata": {},
   "outputs": [],
   "source": [
    "# Drop all columns which are not feature columns. \n",
    "\n",
    "X_train = X_train.drop(to_be_droped, axis=1)\n",
    "X_validate = X_validate.drop(to_be_droped, axis=1)\n",
    "X_test = X_test.drop(to_be_droped, axis=1)\n",
    "\n",
    "print(\"Data shapes\")\n",
    "print(\"train:      \", X_train.shape, y_train_gas.shape, y_train_solv.shape)\n",
    "print(\"validate:   \", X_validate.shape, y_validate_gas.shape, y_validate_solv.shape)\n",
    "print(\"test:       \", X_test.shape, y_test_gas.shape, y_test_solv.shape)"
   ]
  },
  {
   "cell_type": "code",
   "execution_count": null,
   "id": "88d749ea",
   "metadata": {},
   "outputs": [],
   "source": [
    "# Print out used features.\n",
    "\n",
    "for feature in X_train.columns:\n",
    "    print(feature)"
   ]
  },
  {
   "cell_type": "markdown",
   "id": "4034059a",
   "metadata": {},
   "source": [
    "##### 5b) FIA_gas model"
   ]
  },
  {
   "cell_type": "code",
   "execution_count": null,
   "id": "79f51949",
   "metadata": {},
   "outputs": [],
   "source": [
    "# Train LGBMRegressor with FIA_gas.\n",
    "\n",
    "lgbm_gas = LGBMRegressor(\n",
    "    n_estimators=2000,\n",
    "    early_stopping_round=15,\n",
    "    verbose=2\n",
    ")\n",
    "\n",
    "lgbm_gas.fit(\n",
    "    X_train, \n",
    "    y_train_gas,\n",
    "    eval_set=[(X_validate, y_validate_gas)],\n",
    "    eval_metric=\"r2\"\n",
    ")"
   ]
  },
  {
   "cell_type": "code",
   "execution_count": null,
   "id": "dec38be7",
   "metadata": {},
   "outputs": [],
   "source": [
    "# Get and visualize prediction results.\n",
    "\n",
    "predictions_gas = lgbm_gas.predict(X_test)\n",
    "\n",
    "print(f\"MAE_gas: {round(mean_absolute_error(y_test_gas, predictions_gas), 3)} kJ/mol\")\n",
    "print(f\"r2_gas: {round(pearsonr(y_test_gas, predictions_gas)[0]**2, 4)}\")\n",
    "\n",
    "fig = sns.scatterplot(\n",
    "    x=y_test_gas,\n",
    "    y=predictions_gas\n",
    ")\n",
    "\n",
    "fig.set(xlabel=\"FIA calculated by DFT [kJ/mol]\", ylabel=\"FIA prediction [kJ/mol]\", title=\"Predicted FIA vs. DFT FIA\")\n",
    "fig"
   ]
  },
  {
   "cell_type": "code",
   "execution_count": null,
   "id": "55133075",
   "metadata": {},
   "outputs": [],
   "source": [
    "# Save model.\n",
    "\n",
    "with open(\"lgbm_regressor_mol_desc_fia_gas.pkl\", \"wb\") as f:\n",
    "    pickle.dump(lgbm_gas, f)"
   ]
  },
  {
   "cell_type": "markdown",
   "id": "bbea8b64",
   "metadata": {},
   "source": [
    "##### 5c) FIA_solv model"
   ]
  },
  {
   "cell_type": "code",
   "execution_count": null,
   "id": "772bf3f7",
   "metadata": {},
   "outputs": [],
   "source": [
    "# Train LGBMRegressor with FIA_solv.\n",
    "\n",
    "lgbm_solv = LGBMRegressor(\n",
    "    n_estimators=2000,\n",
    "    early_stopping_round=15,\n",
    "    verbose=2\n",
    ")\n",
    "\n",
    "lgbm_solv.fit(\n",
    "    X_train, \n",
    "    y_train_solv,\n",
    "    eval_set=[(X_validate, y_validate_solv)],\n",
    "    eval_metric=\"r2\"\n",
    ")"
   ]
  },
  {
   "cell_type": "code",
   "execution_count": null,
   "id": "44eeda74",
   "metadata": {},
   "outputs": [],
   "source": [
    "# Get and visualize prediction results.\n",
    "\n",
    "predictions_solv = lgbm_solv.predict(X_test)\n",
    "\n",
    "print(f\"MAE_solv: {round(mean_absolute_error(y_test_solv, predictions_solv), 3)} kJ/mol\")\n",
    "print(f\"r2_solv: {round(pearsonr(y_test_solv, predictions_solv)[0]**2, 4)}\")\n",
    "\n",
    "fig = sns.scatterplot(\n",
    "    x=y_test_solv,\n",
    "    y=predictions_solv\n",
    ")\n",
    "\n",
    "fig.set(xlabel=\"FIA calculated by DFT [kJ/mol]\", ylabel=\"FIA prediction [kJ/mol]\", title=\"Predicted FIA vs. DFT FIA\")\n",
    "fig"
   ]
  },
  {
   "cell_type": "code",
   "execution_count": null,
   "id": "8053b415",
   "metadata": {},
   "outputs": [],
   "source": [
    "# Save model.\n",
    "\n",
    "with open(\"lgbm_regressor_mol_desc_fia_solv.pkl\", \"wb\") as f:\n",
    "    pickle.dump(lgbm_solv, f)"
   ]
  },
  {
   "cell_type": "markdown",
   "id": "6e617905",
   "metadata": {},
   "source": [
    "# 6) SHAP analysis"
   ]
  },
  {
   "cell_type": "markdown",
   "id": "35d8d9e2",
   "metadata": {},
   "source": [
    "##### 6a) Load and prepare data"
   ]
  },
  {
   "cell_type": "code",
   "execution_count": null,
   "id": "56f7cd6b",
   "metadata": {},
   "outputs": [],
   "source": [
    "# Execute all cells given above under 5a)."
   ]
  },
  {
   "cell_type": "markdown",
   "id": "a1490ece",
   "metadata": {},
   "source": [
    "##### 6b) Load trained model"
   ]
  },
  {
   "cell_type": "code",
   "execution_count": null,
   "id": "4fd7209d",
   "metadata": {},
   "outputs": [],
   "source": [
    "# Unpickle a fitted model.\n",
    "\n",
    "with open(\"lgbm_regressor_mol_desc_fia_solv.pkl\", \"rb\") as f:\n",
    "    loaded_model = pickle.load(f)\n",
    "loaded_model.fitted_"
   ]
  },
  {
   "cell_type": "markdown",
   "id": "119c0d7d",
   "metadata": {},
   "source": [
    "##### 6c) Get Shaply values"
   ]
  },
  {
   "cell_type": "code",
   "execution_count": null,
   "id": "019a294b",
   "metadata": {},
   "outputs": [],
   "source": [
    "# Calculate SHAP values based on TreeExplainer.\n",
    "\n",
    "explainer = shap.TreeExplainer(loaded_model)\n",
    "shap_values = explainer(X_test)"
   ]
  },
  {
   "cell_type": "code",
   "execution_count": null,
   "id": "950485a8",
   "metadata": {},
   "outputs": [],
   "source": [
    "# Visualize SHAP data.\n",
    "\n",
    "shap.summary_plot(\n",
    "    shap_values, \n",
    "    plot_type=\"bar\",\n",
    "    max_display=50,\n",
    "    plot_size=(10,15)\n",
    ")"
   ]
  },
  {
   "cell_type": "markdown",
   "id": "918c0259",
   "metadata": {},
   "source": [
    "# 7) Analysis of the BCUTpe-1l descriptor"
   ]
  },
  {
   "cell_type": "markdown",
   "id": "8198fd7b",
   "metadata": {},
   "source": [
    "##### 7a) Load data"
   ]
  },
  {
   "cell_type": "code",
   "execution_count": null,
   "id": "9df37e79",
   "metadata": {},
   "outputs": [],
   "source": [
    "# Read files.\n",
    "\n",
    "with open(r\"F:\\FIA_GENERATION\\for_publication\\FINAL\\FIA49k_2d_descriptors_selection.json\", \"r\") as f:\n",
    "    selected_features = json.load(f)[\"second_feature_selection\"]\n",
    "\n",
    "df = pd.read_csv(r\"F:\\FIA_GENERATION\\for_publication\\FINAL\\FIA49k_2d_descriptors.csv.gz\", low_memory=False)\n",
    "df = df.drop([col for col in df.columns if col not in selected_features], axis=1)\n",
    "\n",
    "df2 = pd.read_csv(r\"F:\\FIA_GENERATION\\for_publication\\FINAL\\FIA49k.csv.gz\")\n",
    "\n",
    "len(selected_features), df.shape, df2.shape"
   ]
  },
  {
   "cell_type": "code",
   "execution_count": null,
   "id": "4b7b23a7",
   "metadata": {},
   "outputs": [],
   "source": [
    "df2 = df2.merge(df[[\"Compound\", \"mordred__BCUTpe-1l\"]], on=\"Compound\")\n",
    "df2.shape"
   ]
  },
  {
   "cell_type": "markdown",
   "id": "c35b4105",
   "metadata": {},
   "source": [
    "##### 7b) Correlate the BCUTpe-1l descriptor with the DFT-calculated Mulliken charge of the central atom of the Lewis acid"
   ]
  },
  {
   "cell_type": "code",
   "execution_count": null,
   "id": "f48e2ccc",
   "metadata": {},
   "outputs": [],
   "source": [
    "# Get central atom class wise linear correlations\n",
    "\n",
    "all_r2 = {}\n",
    "\n",
    "for ca_class, data in df2.groupby(\"ca_class\"):\n",
    "    r2 = pearsonr(\n",
    "        data[\"mordred__BCUTpe-1l\"],\n",
    "        data[\"la-ca_mulliken_charge-PBEh3c\"],\n",
    "    )[0]**2\n",
    "    all_r2[ca_class] = r2\n",
    "\n",
    "all_r2 = dict(sorted(all_r2.items(), key=lambda x: x[1], reverse=True))\n",
    "all_r2"
   ]
  },
  {
   "cell_type": "code",
   "execution_count": null,
   "id": "e747eb22",
   "metadata": {},
   "outputs": [],
   "source": [
    "# Average correlation.\n",
    "\n",
    "np.mean(list(all_r2.values()))"
   ]
  },
  {
   "cell_type": "code",
   "execution_count": null,
   "id": "37353b54",
   "metadata": {},
   "outputs": [],
   "source": [
    "# Make plot I.\n",
    "\n",
    "g = sns.FacetGrid(\n",
    "    data=df2, \n",
    "    col=\"ca_class\", \n",
    "    col_wrap=3, \n",
    "    sharex=False, \n",
    "    sharey=False, \n",
    "    col_order=list(all_r2.keys())\n",
    ")\n",
    "\n",
    "g.map(\n",
    "    sns.regplot,\n",
    "    \"mordred__BCUTpe-1l\",\n",
    "    \"la-ca_mulliken_charge-PBEh3c\",\n",
    "    line_kws=dict(color=\"darkred\")\n",
    ")\n",
    "\n",
    "g.set_xlabels(\"BCUTpe-1l descriptor\")\n",
    "g.set_ylabels(\"Central atom Mulliken charge / e\")\n",
    "g.set_titles(col_template=\"{col_name}\", row_template=\"{row_name}\", size=16)"
   ]
  },
  {
   "cell_type": "code",
   "execution_count": null,
   "id": "7305945e",
   "metadata": {},
   "outputs": [],
   "source": [
    "# Make plot II.\n",
    "\n",
    "CA_CLASS = \"Bi(III)\"\n",
    "\n",
    "fig = sns.regplot(\n",
    "    df2.loc[df2[\"ca_class\"] == CA_CLASS],\n",
    "    x=\"mordred__BCUTpe-1l\",\n",
    "    y=\"la-ca_mulliken_charge-PBEh3c\",\n",
    "    line_kws=dict(color=\"darkred\")\n",
    ")\n",
    "\n",
    "fig.set(\n",
    "    xlabel=\"BCUTpe-1l descriptor\", \n",
    "    ylabel=\"Central atom Mulliken charge / e\",\n",
    "    title=f\"Correlation plot {CA_CLASS}-based molecules \"\n",
    ")\n",
    "fig"
   ]
  }
 ],
 "metadata": {
  "kernelspec": {
   "display_name": "Python (ml_env_local)",
   "language": "python",
   "name": "ml_env_local"
  },
  "language_info": {
   "codemirror_mode": {
    "name": "ipython",
    "version": 3
   },
   "file_extension": ".py",
   "mimetype": "text/x-python",
   "name": "python",
   "nbconvert_exporter": "python",
   "pygments_lexer": "ipython3",
   "version": "3.10.4"
  }
 },
 "nbformat": 4,
 "nbformat_minor": 5
}
