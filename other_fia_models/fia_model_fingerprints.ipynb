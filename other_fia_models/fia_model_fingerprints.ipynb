{
 "cells": [
  {
   "cell_type": "code",
   "execution_count": null,
   "id": "aaadd443",
   "metadata": {},
   "outputs": [],
   "source": [
    "import os\n",
    "import numpy as np  # 1.23.5\n",
    "import pandas as pd  # 1.5.0\n",
    "import seaborn as sns  # 0.12.0\n",
    "\n",
    "from rdkit import Chem  # 2023.03.3\n",
    "from rdkit.Chem import rdFingerprintGenerator\n",
    "\n",
    "from sklearn.ensemble import RandomForestRegressor  # 1.2.2\n",
    "from sklearn.metrics import mean_absolute_error\n",
    "from scipy.stats import pearsonr  # 1.9.1\n",
    "from lightgbm import LGBMRegressor  # 4.0.0\n",
    "\n",
    "from tqdm.auto import tqdm\n",
    "\n",
    "DATA_DIRECTORY_PATH = os.path.join((os.path.split(os.getcwd())[0]), \"data\")"
   ]
  },
  {
   "cell_type": "markdown",
   "id": "3c26326a",
   "metadata": {},
   "source": [
    "# 1) Feature generation"
   ]
  },
  {
   "cell_type": "markdown",
   "id": "e172c2e9",
   "metadata": {},
   "source": [
    "##### 1a) Read data"
   ]
  },
  {
   "cell_type": "code",
   "execution_count": null,
   "id": "440956db",
   "metadata": {},
   "outputs": [],
   "source": [
    "# Read csv file.\n",
    "\n",
    "df = pd.read_csv(os.path.join(DATA_DIRECTORY_PATH, \"FIA49k.csv.gz\"))\n",
    "df.shape"
   ]
  },
  {
   "cell_type": "markdown",
   "id": "d615d71b",
   "metadata": {},
   "source": [
    "##### 1b) Calculate fingerprints"
   ]
  },
  {
   "cell_type": "code",
   "execution_count": null,
   "id": "ea5e718b",
   "metadata": {},
   "outputs": [],
   "source": [
    "# Generate Morgan fingerprints with RDKit.\n",
    "# Hydrogen atoms are added before features are calculated after generating the mol objects from SMILES strings.\n",
    "\n",
    "RADIUS = 3\n",
    "FPSIZE = 2048\n",
    "\n",
    "fingerprints = {}\n",
    "for _, data in tqdm(df.iterrows()):\n",
    "    mol = Chem.MolFromSmiles(data.la_smiles)\n",
    "    mol = Chem.AddHs(mol)\n",
    "\n",
    "    fpgen = rdFingerprintGenerator.GetMorganGenerator(radius=RADIUS, fpSize=FPSIZE)\n",
    "    fingerprints[data.Compound] = fpgen.GetFingerprintAsNumPy(mol)"
   ]
  },
  {
   "cell_type": "code",
   "execution_count": null,
   "id": "c0aadd5e",
   "metadata": {},
   "outputs": [],
   "source": [
    "# Formatting.\n",
    "\n",
    "fingerprint_df = pd.DataFrame(fingerprints).T.astype(\"int32\")\n",
    "fingerprint_df.columns = [f\"fp_bit_{i+1}\" for i in range(FPSIZE)]\n",
    "fingerprint_df = fingerprint_df.reset_index(drop=False, names=\"Compound\")\n",
    "fingerprint_df.shape"
   ]
  },
  {
   "cell_type": "code",
   "execution_count": null,
   "id": "aee6d498",
   "metadata": {},
   "outputs": [],
   "source": [
    "# Save data to csv file.\n",
    "\n",
    "fingerprint_df.to_csv(\"morgan_fp_fia49k.csv\", index=False)"
   ]
  },
  {
   "cell_type": "markdown",
   "id": "721ad580",
   "metadata": {},
   "source": [
    "# 2) RandomForestRegressors"
   ]
  },
  {
   "cell_type": "markdown",
   "id": "591d738c",
   "metadata": {},
   "source": [
    "##### 2a) Load and prepare data"
   ]
  },
  {
   "cell_type": "code",
   "execution_count": null,
   "id": "d415a0a9",
   "metadata": {},
   "outputs": [],
   "source": [
    "# Read csv files.\n",
    "\n",
    "final_df = pd.read_csv(\"morgan_fp_fia49k.csv\")\n",
    "df2 = pd.read_csv(os.path.join(DATA_DIRECTORY_PATH, \"FIA49k.csv.gz\"))\n",
    "\n",
    "final_df.shape, df2.shape"
   ]
  },
  {
   "cell_type": "code",
   "execution_count": null,
   "id": "113e614f",
   "metadata": {},
   "outputs": [],
   "source": [
    "# Formatting.\n",
    "\n",
    "final_df = final_df.merge(df2[[\"Compound\", \"set_assignment\", \"fia_gas-DSDBLYP\", \"fia_solv-DSDBLYP\"]], on=\"Compound\")\n",
    "final_df.shape"
   ]
  },
  {
   "cell_type": "code",
   "execution_count": null,
   "id": "59b0e0a4",
   "metadata": {},
   "outputs": [],
   "source": [
    "# Set up train, validation, and test data frames.\n",
    "\n",
    "X_train = final_df.loc[final_df[\"set_assignment\"] == \"train\"]\n",
    "X_validate = final_df.loc[final_df[\"set_assignment\"] == \"validate\"]\n",
    "X_test = final_df.loc[final_df[\"set_assignment\"] == \"test\"]\n",
    "\n",
    "y_train_gas = X_train[\"fia_gas-DSDBLYP\"]\n",
    "y_train_solv = X_train[\"fia_solv-DSDBLYP\"]\n",
    "\n",
    "y_validate_gas = X_validate[\"fia_gas-DSDBLYP\"]\n",
    "y_validate_solv = X_validate[\"fia_solv-DSDBLYP\"]\n",
    "\n",
    "y_test_gas = X_test[\"fia_gas-DSDBLYP\"]\n",
    "y_test_solv = X_test[\"fia_solv-DSDBLYP\"]\n",
    "\n",
    "compounds_train = list(X_train[\"Compound\"])\n",
    "compounds_validate = list(X_validate[\"Compound\"])\n",
    "compounds_test = list(X_test[\"Compound\"])\n",
    "\n",
    "to_be_droped = [col for col in list(final_df.columns) if \"fp_bit_\" not in col]"
   ]
  },
  {
   "cell_type": "code",
   "execution_count": null,
   "id": "c01cfacd",
   "metadata": {},
   "outputs": [],
   "source": [
    "# Drop all columns which are not feature columns. \n",
    "\n",
    "X_train = X_train.drop(to_be_droped, axis=1)\n",
    "X_validate = X_validate.drop(to_be_droped, axis=1)\n",
    "X_test = X_test.drop(to_be_droped, axis=1)\n",
    "\n",
    "print(\"Data shapes:\")\n",
    "print(\"train:      \", X_train.shape, y_train_gas.shape, y_train_solv.shape)\n",
    "print(\"validate:   \", X_validate.shape, y_validate_gas.shape, y_validate_solv.shape)\n",
    "print(\"test:       \", X_test.shape, y_test_gas.shape, y_test_solv.shape)"
   ]
  },
  {
   "cell_type": "markdown",
   "id": "6e039e68",
   "metadata": {},
   "source": [
    "##### 2b) FIA_gas model"
   ]
  },
  {
   "cell_type": "code",
   "execution_count": null,
   "id": "b16c5feb",
   "metadata": {},
   "outputs": [],
   "source": [
    "# Train RandomForestRegressor with FIA_gas.\n",
    "\n",
    "rf_gas = RandomForestRegressor(\n",
    "    n_estimators=100,\n",
    "    n_jobs=-1,\n",
    "    verbose=2\n",
    ")\n",
    "\n",
    "rf_gas.fit(X_train, y_train_gas)"
   ]
  },
  {
   "cell_type": "code",
   "execution_count": null,
   "id": "17ff99be",
   "metadata": {},
   "outputs": [],
   "source": [
    "# Get and visualize prediction results.\n",
    "\n",
    "predictions_gas = rf_gas.predict(X_test)\n",
    "\n",
    "print(f\"MAE_gas: {round(mean_absolute_error(y_test_gas, predictions_gas), 3)} kJ/mol\")\n",
    "print(f\"r2_gas: {round(pearsonr(y_test_gas, predictions_gas)[0]**2, 4)}\")\n",
    "\n",
    "fig = sns.scatterplot(\n",
    "    x=y_test_gas,\n",
    "    y=predictions_gas\n",
    ")\n",
    "\n",
    "fig.set(xlabel=\"FIA calculated by DFT [kJ/mol]\", ylabel=\"FIA prediction [kJ/mol]\", title=\"Predicted FIA vs. DFT FIA\")\n",
    "fig"
   ]
  },
  {
   "cell_type": "markdown",
   "id": "1ac3894a",
   "metadata": {},
   "source": [
    "##### 2c) FIA_solv model"
   ]
  },
  {
   "cell_type": "code",
   "execution_count": null,
   "id": "e3fc466e",
   "metadata": {},
   "outputs": [],
   "source": [
    "# Train RandomForestRegressor with FIA_solv.\n",
    "\n",
    "rf_solv = RandomForestRegressor(\n",
    "    n_estimators=100,\n",
    "    n_jobs=-1,\n",
    "    verbose=2\n",
    ")\n",
    "\n",
    "rf_solv.fit(X_train, y_train_solv)"
   ]
  },
  {
   "cell_type": "code",
   "execution_count": null,
   "id": "2e084c25",
   "metadata": {},
   "outputs": [],
   "source": [
    "# Get and visualize prediction results.\n",
    "\n",
    "predictions_solv = rf_solv.predict(X_test)\n",
    "\n",
    "print(f\"MAE_solv: {round(mean_absolute_error(y_test_solv, predictions_solv), 3)} kJ/mol\")\n",
    "print(f\"r2_solv: {round(pearsonr(y_test_solv, predictions_solv)[0]**2, 4)}\")\n",
    "\n",
    "fig = sns.scatterplot(\n",
    "    x=y_test_solv,\n",
    "    y=predictions_solv\n",
    ")\n",
    "\n",
    "fig.set(xlabel=\"FIA calculated by DFT [kJ/mol]\", ylabel=\"FIA prediction [kJ/mol]\", title=\"Predicted FIA vs. DFT FIA\")\n",
    "fig"
   ]
  },
  {
   "cell_type": "markdown",
   "id": "9d47cc32",
   "metadata": {},
   "source": [
    "# 3) LGBMRegressor"
   ]
  },
  {
   "cell_type": "markdown",
   "id": "668ae6d3",
   "metadata": {},
   "source": [
    "##### 3a) Load and prepare data"
   ]
  },
  {
   "cell_type": "code",
   "execution_count": null,
   "id": "1495e41b",
   "metadata": {},
   "outputs": [],
   "source": [
    "# Execute all cells given above under 2a)."
   ]
  },
  {
   "cell_type": "markdown",
   "id": "98ab96c2",
   "metadata": {},
   "source": [
    "##### 3b) FIA_gas model"
   ]
  },
  {
   "cell_type": "code",
   "execution_count": null,
   "id": "227bcbc6",
   "metadata": {},
   "outputs": [],
   "source": [
    "# Train LGBMRegressor with FIA_gas.\n",
    "\n",
    "lgbm_gas = LGBMRegressor(\n",
    "    n_estimators=2000,\n",
    "    early_stopping_round=15,\n",
    "    verbose=2\n",
    ")\n",
    "\n",
    "lgbm_gas.fit(\n",
    "    X_train, \n",
    "    y_train_gas,\n",
    "    eval_set=[(X_validate, y_validate_gas)],\n",
    "    eval_metric=\"r2\"\n",
    ")"
   ]
  },
  {
   "cell_type": "code",
   "execution_count": null,
   "id": "9a28c2d4",
   "metadata": {},
   "outputs": [],
   "source": [
    "# Get and visualize prediction results.\n",
    "\n",
    "predictions_gas = lgbm_gas.predict(X_test)\n",
    "\n",
    "print(f\"MAE_gas: {round(mean_absolute_error(y_test_gas, predictions_gas), 3)} kJ/mol\")\n",
    "print(f\"r2_gas: {round(pearsonr(y_test_gas, predictions_gas)[0]**2, 4)}\")\n",
    "\n",
    "fig = sns.scatterplot(\n",
    "    x=y_test_gas,\n",
    "    y=predictions_gas\n",
    ")\n",
    "\n",
    "fig.set(xlabel=\"FIA calculated by DFT [kJ/mol]\", ylabel=\"FIA prediction [kJ/mol]\", title=\"Predicted FIA vs. DFT FIA\")\n",
    "fig"
   ]
  },
  {
   "cell_type": "markdown",
   "id": "61b91127",
   "metadata": {},
   "source": [
    "##### 3c) FIA_solv model"
   ]
  },
  {
   "cell_type": "code",
   "execution_count": null,
   "id": "3ff10185",
   "metadata": {},
   "outputs": [],
   "source": [
    "# Train LGBMRegressor with FIA_solv.\n",
    "\n",
    "lgbm_solv = LGBMRegressor(\n",
    "    n_estimators=2000,\n",
    "    early_stopping_round=15,\n",
    "    verbose=2\n",
    ")\n",
    "\n",
    "lgbm_solv.fit(\n",
    "    X_train, \n",
    "    y_train_solv,\n",
    "    eval_set=[(X_validate, y_validate_solv)],\n",
    "    eval_metric=\"r2\"\n",
    ")"
   ]
  },
  {
   "cell_type": "code",
   "execution_count": null,
   "id": "beaeebdd",
   "metadata": {},
   "outputs": [],
   "source": [
    "# Get and visualize prediction results.\n",
    "\n",
    "predictions_solv = lgbm_solv.predict(X_test)\n",
    "\n",
    "print(f\"MAE_solv: {round(mean_absolute_error(y_test_solv, predictions_solv), 3)} kJ/mol\")\n",
    "print(f\"r2_solv: {round(pearsonr(y_test_solv, predictions_solv)[0]**2, 4)}\")\n",
    "\n",
    "fig = sns.scatterplot(\n",
    "    x=y_test_solv,\n",
    "    y=predictions_solv\n",
    ")\n",
    "\n",
    "fig.set(xlabel=\"FIA calculated by DFT [kJ/mol]\", ylabel=\"FIA prediction [kJ/mol]\", title=\"Predicted FIA vs. DFT FIA\")\n",
    "fig"
   ]
  }
 ],
 "metadata": {
  "kernelspec": {
   "display_name": "Python (ml_env_local)",
   "language": "python",
   "name": "ml_env_local"
  },
  "language_info": {
   "codemirror_mode": {
    "name": "ipython",
    "version": 3
   },
   "file_extension": ".py",
   "mimetype": "text/x-python",
   "name": "python",
   "nbconvert_exporter": "python",
   "pygments_lexer": "ipython3",
   "version": "3.10.4"
  }
 },
 "nbformat": 4,
 "nbformat_minor": 5
}
