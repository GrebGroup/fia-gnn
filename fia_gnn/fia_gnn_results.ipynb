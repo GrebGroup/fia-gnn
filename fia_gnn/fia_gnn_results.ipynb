{
 "cells": [
  {
   "cell_type": "code",
   "execution_count": null,
   "id": "727b46f2",
   "metadata": {},
   "outputs": [],
   "source": [
    "import os\n",
    "import json\n",
    "import umap # 0.5.3\n",
    "import pandas as pd # 1.5.0\n",
    "import numpy as np # 1.23.5\n",
    "\n",
    "import matplotlib.pyplot as plt # 3.6.2\n",
    "import seaborn as sns # 0.12.0\n",
    "\n",
    "import plotly # 5.10.0\n",
    "import plotly.express as px\n",
    "import plotly.graph_objects as go\n",
    "\n",
    "from rdkit import Chem # 2023.03.3\n",
    "from scipy import stats # 1.9.1\n",
    "from sklearn.metrics import mean_absolute_error # 1.2.2\n",
    "from prettytable import *"
   ]
  },
  {
   "cell_type": "markdown",
   "id": "edc4101c",
   "metadata": {},
   "source": [
    "# 1) Load data"
   ]
  },
  {
   "cell_type": "code",
   "execution_count": null,
   "id": "26051770",
   "metadata": {},
   "outputs": [],
   "source": [
    "# Dictionary to format and order central atom classes.\n",
    "\n",
    "formatted_ca = {\n",
    "    \"B_3\": \"B(III)\",\n",
    "    \"Al_3\": \"Al(III)\",\n",
    "    \"Ga_3\": \"Ga(III)\",\n",
    "    \"In_3\": \"In(III)\",\n",
    "    \"Si_2\": \"Si(II)\",\n",
    "    \"Ge_2\": \"Ge(II)\",\n",
    "    \"Sn_2\": \"Sn(II)\",\n",
    "    \"Pb_2\": \"Pb(II)\",\n",
    "    \"Si_4\": \"Si(IV)\",\n",
    "    \"Ge_4\": \"Ge(IV)\",\n",
    "    \"Sn_4\": \"Sn(IV)\",\n",
    "    \"Pb_4\": \"Pb(IV)\",\n",
    "    \"P_3\": \"P(III)\",\n",
    "    \"As_3\": \"As(III)\",\n",
    "    \"Sb_3\": \"Sb(III)\",\n",
    "    \"Bi_3\": \"Bi(III)\",\n",
    "    \"P_5\": \"P(V)\",\n",
    "    \"As_5\": \"As(V)\",\n",
    "    \"Bi_5\": \"Bi(V)\",\n",
    "    \"Sb_5\": \"Sb(V)\",\n",
    "    \"Te_4\": \"Te(IV)\"\n",
    "}"
   ]
  },
  {
   "cell_type": "code",
   "execution_count": null,
   "id": "9b9f6e5d",
   "metadata": {},
   "outputs": [],
   "source": [
    "# Load predicted FIA values.\n",
    "\n",
    "fia_predictions = pd.read_csv(os.path.join((os.path.split(os.getcwd())[0]), \"data\", \"FIA49k_predictions.csv.gz\"))\n",
    "fia_predictions.shape"
   ]
  },
  {
   "cell_type": "code",
   "execution_count": null,
   "id": "35cff6b1",
   "metadata": {},
   "outputs": [],
   "source": [
    "# Add absolute errors to the data frame.\n",
    "\n",
    "fia_predictions[\"abs_error_fia_gas-DSDBLYP\"] = abs(\n",
    "    fia_predictions[\"fia_gas-DSDBLYP\"] - fia_predictions[\"pred_fia_gas-DSDBLYP\"]\n",
    ")\n",
    "\n",
    "fia_predictions[\"abs_error_fia_solv-DSDBLYP\"] = abs(\n",
    "    fia_predictions[\"fia_solv-DSDBLYP\"] - fia_predictions[\"pred_fia_solv-DSDBLYP\"]\n",
    ")\n",
    "\n",
    "fia_predictions.shape"
   ]
  },
  {
   "cell_type": "code",
   "execution_count": null,
   "id": "c0bfaad9",
   "metadata": {},
   "outputs": [],
   "source": [
    "# Load general data file.\n",
    "\n",
    "general_data = pd.read_csv(os.path.join((os.path.split(os.getcwd())[0]), \"data\", \"FIA49k.csv.gz\"))\n",
    "general_data = general_data[general_data[\"Compound\"].isin(fia_predictions[\"Compound\"])]\n",
    "general_data.shape"
   ]
  },
  {
   "cell_type": "code",
   "execution_count": null,
   "id": "ce9f4edc",
   "metadata": {},
   "outputs": [],
   "source": [
    "# Formatting.\n",
    "\n",
    "fia_predictions = fia_predictions.merge(general_data[[\n",
    "    \"Compound\", \n",
    "    \"ca_class\", \n",
    "    \"denticity_class\",\n",
    "    \"la_smiles\"\n",
    "]], on=\"Compound\")\n",
    "\n",
    "fia_predictions.shape"
   ]
  },
  {
   "cell_type": "markdown",
   "id": "005651b0",
   "metadata": {},
   "source": [
    "# 2) Analyze FIA predictions"
   ]
  },
  {
   "cell_type": "code",
   "execution_count": null,
   "id": "9106ea77",
   "metadata": {},
   "outputs": [],
   "source": [
    "# These are some functions to analyze the data.\n",
    "\n",
    "def get_r2(x, y):\n",
    "    \"\"\"\n",
    "    Get the squared Pearson correlation coefficient.\n",
    "    \"\"\"\n",
    "    if len(x) < 2:\n",
    "        return 0\n",
    "    else:\n",
    "        return round((stats.pearsonr(x, y)[0]**2), 4)\n",
    "\n",
    "\n",
    "def get_mae(x, y):\n",
    "    \"\"\"\n",
    "    Get the mean absolute error.\n",
    "    \"\"\"\n",
    "    if len(x) < 2:\n",
    "        return 0\n",
    "    else:\n",
    "        return round((mean_absolute_error(x, y)), 4)\n",
    "\n",
    "\n",
    "def get_spearman_rank(x, y):\n",
    "    \"\"\"\n",
    "    Get the squared Spearman rank coefficient.\n",
    "    \"\"\"\n",
    "    if len(x) < 2:\n",
    "        return 0\n",
    "    else:\n",
    "        return round((stats.spearmanr(x, y)[0]**2), 4)\n",
    "\n",
    "def make_plot(df, fia_type, set_assignment, hover, hue=None, add_line=False):\n",
    "    \"\"\"\n",
    "    This function makes a parity plot between true and predicted FIA values\n",
    "    ...\n",
    "    Arguments\n",
    "    ---------\n",
    "    df: pd.DataFrame\n",
    "        Data to be plotted.\n",
    "    fia_type: str\n",
    "        FIA type to be plotted, must be either \"fia_gas-DSDBLYP\" or \"fia_solv-DSDBLYP\".\n",
    "    set_assignment: str\n",
    "        This allows to limit the data set to a certain subgroup.\n",
    "    hue: str\n",
    "        This allows to color-code the markers in the scatter plot.\n",
    "    add_line: bool\n",
    "        Whether or not to add a linear regression line to each hue class.\n",
    "        \n",
    "    \"\"\"\n",
    "    df = df.loc[df[\"set_assignment\"] == set_assignment]\n",
    "    \n",
    "    hover_data = [\"Compound\"]\n",
    "    for i in hover:\n",
    "        hover_data.append(i)\n",
    "    \n",
    "    if add_line:\n",
    "        trendline = \"ols\"\n",
    "        trendline_color_override = \"red\"\n",
    "    else:\n",
    "        trendline = None\n",
    "        trendline_color_override = None\n",
    "        \n",
    "    fig = px.scatter(\n",
    "        df,\n",
    "        x = fia_type,\n",
    "        y = f\"pred_{fia_type}\",\n",
    "        color = hue,\n",
    "        hover_data = hover_data,\n",
    "        trendline = trendline,\n",
    "        trendline_color_override = trendline_color_override,\n",
    "        color_discrete_sequence = px.colors.qualitative.Alphabet\n",
    "    )\n",
    "    \n",
    "    if add_line and hue != None:\n",
    "        try:\n",
    "            print()\n",
    "            print(f\"hue was '{hue}'.\")\n",
    "            print()\n",
    "            print(f\"class\\t\\tr_2\")\n",
    "            print(\"-----------------------------\")\n",
    "            results = px.get_trendline_results(fig)\n",
    "            df_dict = results.to_dict(orient=\"index\")\n",
    "            for i in df_dict:\n",
    "                print(f\"{df_dict[i][hue]}\\t\\t{round((df_dict[i]['px_fit_results'].rsquared), 4)}\")\n",
    "        except:\n",
    "            print(\"provided hue is continuous\")\n",
    "    \n",
    "    fig.add_trace(\n",
    "        go.Scatter(\n",
    "            x=[\n",
    "                min(df[fia_type]) - 20, \n",
    "                max(df[fia_type]) + 20\n",
    "            ], \n",
    "            y=[\n",
    "                min(df[fia_type]) - 20, \n",
    "                max(df[fia_type]) + 20\n",
    "            ],\n",
    "            name=\"perfection\", \n",
    "            line_shape='linear')\n",
    "    )\n",
    "    \n",
    "    fig.show()\n",
    "\n",
    "\n",
    "def get_final_results(df, set_assignment=None, hue=None, hue_sort_by=None):\n",
    "    \"\"\"\n",
    "    This function plots final results (MAE, r2, spearman rank**2).\n",
    "    ...\n",
    "    Arguments\n",
    "    ---------\n",
    "    df: pd.DataFrame\n",
    "        Data to be analyzed.\n",
    "    set_assignment: str\n",
    "        This allows to limit the data set to a certain subgroup.\n",
    "    hue: str\n",
    "        This allows to do the analysis for certain subgroups of the data set separately.\n",
    "    hue_sort_by: str\n",
    "        This allows to sort the data calculated for the hue classes by a certain value.\n",
    "    \"\"\"\n",
    "    print(\"#################\")\n",
    "    print(\"# Final results #\")\n",
    "    print(\"#################\")\n",
    "    print()\n",
    "    \n",
    "    if set_assignment is not None:\n",
    "        df = df.loc[df[\"set_assignment\"] == set_assignment]\n",
    "    \n",
    "    print(\"-------\")\n",
    "    print(\"Overall\")\n",
    "    print(\"-------\")\n",
    "    mae = get_mae(df['fia_gas-DSDBLYP'], df[f'pred_fia_gas-DSDBLYP'])\n",
    "    r2 = get_r2(df['fia_gas-DSDBLYP'], df[f'pred_fia_gas-DSDBLYP'])\n",
    "    sm_rank = get_spearman_rank(df['fia_gas-DSDBLYP'], df[f'pred_fia_gas-DSDBLYP'])\n",
    "    print(f\"> FIA_gas\\tMAE: {mae}\\tr2: {r2}\\tSpearman coeff **2: {sm_rank}\")\n",
    "    mae = get_mae(df['fia_solv-DSDBLYP'], df[f'pred_fia_solv-DSDBLYP'])\n",
    "    r2 = get_r2(df['fia_solv-DSDBLYP'], df[f'pred_fia_solv-DSDBLYP'])\n",
    "    sm_rank = get_spearman_rank(df['fia_solv-DSDBLYP'], df[f'pred_fia_solv-DSDBLYP'])\n",
    "    print(f\"> FIA_solv\\tMAE: {mae}\\tr2: {r2}\\tSpearman coeff **2: {sm_rank}\")\n",
    "    print()\n",
    "    \n",
    "    print(\"-----\")\n",
    "    print(\"Hue's\")\n",
    "    print(\"-----\")\n",
    "    if hue is not None:\n",
    "        if hue_sort_by is None:\n",
    "            hue_sort_by = \"Subclass\"\n",
    "            \n",
    "        hue_classes = list(set(df[hue]))\n",
    "        hue_members = []\n",
    "        hue_maes_gas = []\n",
    "        hue_maes_solv = []\n",
    "        hue_r2s_gas = []\n",
    "        hue_r2s_solv = []\n",
    "        hue_sm_rank_gas = []\n",
    "        hue_sm_rank_solv = []\n",
    "        for hue_class in hue_classes:\n",
    "            hue_df = df.loc[df[hue] == hue_class]\n",
    "            hue_members.append(len(hue_df))\n",
    "            \n",
    "            hue_maes_gas.append(get_mae(hue_df[\"fia_gas-DSDBLYP\"], hue_df[\"pred_fia_gas-DSDBLYP\"]))\n",
    "            hue_maes_solv.append(get_mae(hue_df[\"fia_solv-DSDBLYP\"], hue_df[\"pred_fia_solv-DSDBLYP\"]))\n",
    "            \n",
    "            hue_r2s_gas.append(get_r2(hue_df[\"fia_gas-DSDBLYP\"], hue_df[\"pred_fia_gas-DSDBLYP\"]))\n",
    "            hue_r2s_solv.append(get_r2(hue_df[\"fia_solv-DSDBLYP\"], hue_df[\"pred_fia_solv-DSDBLYP\"]))\n",
    "            \n",
    "            hue_sm_rank_gas.append(get_spearman_rank(hue_df[\"fia_gas-DSDBLYP\"], hue_df[\"pred_fia_gas-DSDBLYP\"]))\n",
    "            hue_sm_rank_solv.append(get_spearman_rank(hue_df[\"fia_solv-DSDBLYP\"], hue_df[\"pred_fia_solv-DSDBLYP\"]))\n",
    "        \n",
    "        T = PrettyTable()\n",
    "        T.add_column(\"Subclass\", hue_classes)\n",
    "        T.add_column(\"Member count\", hue_members)\n",
    "        T.add_column(\"MAE_gas\", hue_maes_gas)\n",
    "        T.add_column(\"r2_gas\", hue_r2s_gas)\n",
    "        T.add_column(\"Sm_rank_gas\", hue_sm_rank_gas)\n",
    "        T.add_column(\"MAE_solv\", hue_maes_solv)\n",
    "        T.add_column(\"r2_solv\", hue_r2s_solv)\n",
    "        T.add_column(\"Sm_rank_solv\", hue_sm_rank_solv)\n",
    "        T.sortby = hue_sort_by\n",
    "        T.align[\"Subclass\"] = \"l\"\n",
    "        print(T)\n",
    "    else:\n",
    "        print(\"None\")"
   ]
  },
  {
   "cell_type": "markdown",
   "id": "adb6c29b",
   "metadata": {},
   "source": [
    "### 2a) Overall"
   ]
  },
  {
   "cell_type": "code",
   "execution_count": null,
   "id": "a1b001d1",
   "metadata": {},
   "outputs": [],
   "source": [
    "get_final_results(\n",
    "    df=fia_predictions,  \n",
    "    set_assignment=None, \n",
    "    hue=\"set_assignment\", \n",
    ")"
   ]
  },
  {
   "cell_type": "markdown",
   "id": "7ab6a90a",
   "metadata": {},
   "source": [
    "### 2b) Test set of the FIA44k data set (set_assignment == \"test\")"
   ]
  },
  {
   "cell_type": "code",
   "execution_count": null,
   "id": "ab6aaed0",
   "metadata": {},
   "outputs": [],
   "source": [
    "# Get the data of the subset.\n",
    "\n",
    "SET = \"test\"\n",
    "df_test = fia_predictions.loc[fia_predictions[\"set_assignment\"] == SET]\n",
    "df_test.shape"
   ]
  },
  {
   "cell_type": "code",
   "execution_count": null,
   "id": "83ab6a74",
   "metadata": {},
   "outputs": [],
   "source": [
    "get_final_results(\n",
    "    df=df_test,  \n",
    "    set_assignment=SET, \n",
    "    hue=\"ca_class\",\n",
    "    hue_sort_by=\"MAE_gas\"\n",
    ")"
   ]
  },
  {
   "cell_type": "code",
   "execution_count": null,
   "id": "2395fd3f",
   "metadata": {},
   "outputs": [],
   "source": [
    "make_plot(\n",
    "    df=df_test, \n",
    "    fia_type=\"fia_gas-DSDBLYP\", \n",
    "    set_assignment=SET, \n",
    "    hover=[\"ca_class\"], \n",
    "    hue=\"denticity_class\", \n",
    "    add_line=True\n",
    ")"
   ]
  },
  {
   "cell_type": "markdown",
   "id": "335a50ed",
   "metadata": {},
   "source": [
    "##### Plots for publication"
   ]
  },
  {
   "cell_type": "code",
   "execution_count": null,
   "id": "217a8720",
   "metadata": {},
   "outputs": [],
   "source": [
    "ca_maes = dict(df_test.groupby([\"ca_class\"])[\"abs_error_fia_gas-DSDBLYP\"].mean())\n",
    "ca_maes_df = pd.DataFrame([ca_maes]).T\n",
    "ca_maes_df = ca_maes_df.reset_index(drop=False)\n",
    "ca_maes_df.columns = [\"ca_class\", \"MAE\"]\n",
    "ca_maes_df.shape"
   ]
  },
  {
   "cell_type": "code",
   "execution_count": null,
   "id": "dfb9772f",
   "metadata": {},
   "outputs": [],
   "source": [
    "ca_r2s = {}\n",
    "for ca_class, data in df_test.groupby([\"ca_class\"]):\n",
    "    ca_r2s[ca_class] = get_r2(data[\"fia_gas-DSDBLYP\"], data[\"pred_fia_gas-DSDBLYP\"])\n",
    "\n",
    "ca_r2s = {ca_class: ca_r2s[ca_class] for ca_class in [x for x in list(formatted_ca.values())]}\n",
    "\n",
    "ca_r2s = [\"%.3f\" % r2 for r2 in ca_r2s.values()]"
   ]
  },
  {
   "cell_type": "code",
   "execution_count": null,
   "id": "bd11bfcb",
   "metadata": {},
   "outputs": [],
   "source": [
    "plt.style.use('default')\n",
    "plt.figure(figsize=(2.5, 8))\n",
    "plt.rcParams['figure.dpi'] = 300\n",
    "\n",
    "ax = sns.barplot(\n",
    "    data=ca_maes_df,\n",
    "    x=\"MAE\",\n",
    "    y=\"ca_class\",\n",
    "    color=sns.color_palette(\"inferno\")[1],\n",
    "    edgecolor=\"black\",\n",
    "    order=[x for x in list(formatted_ca.values())],\n",
    ")\n",
    "\n",
    "for idx, p in enumerate(ax.patches):\n",
    "    ax.annotate(\n",
    "        ca_r2s[idx], \n",
    "        (p.get_width()+1, p.get_y() + p.get_height() / 2.),\n",
    "        ha='center', \n",
    "        va='center', \n",
    "        fontsize=12, \n",
    "        xytext=(18, 0),\n",
    "        color=(0, 128/255, 128/255),\n",
    "        textcoords='offset points', \n",
    "               )\n",
    "\n",
    "plt.xlabel(\"MAE$_{gas}$ / kJ mol$^{-1}$\", fontsize=14)\n",
    "plt.ylabel(\"Central atom class\", fontsize=14)\n",
    "\n",
    "plt.xticks(fontsize=11)\n",
    "plt.yticks(fontsize=11)\n",
    "\n",
    "ax.axvline(x=12.1119, linestyle=\"--\", color=sns.color_palette(\"inferno\")[4], linewidth=3)\n",
    "\n",
    "plt.xlim(0, 28)\n",
    "\n",
    "ax"
   ]
  },
  {
   "cell_type": "markdown",
   "id": "2d4e7f7c",
   "metadata": {},
   "source": [
    "***"
   ]
  },
  {
   "cell_type": "code",
   "execution_count": null,
   "id": "1319d803",
   "metadata": {},
   "outputs": [],
   "source": [
    "dent_maes = dict(df_test.groupby([\"denticity_class\"])[\"abs_error_fia_gas-DSDBLYP\"].mean())\n",
    "dent_maes_df = pd.DataFrame([dent_maes]).T\n",
    "dent_maes_df = dent_maes_df.reset_index(drop=False)\n",
    "dent_maes_df.columns = [\"denticity_class\", \"MAE\"]\n",
    "dent_maes_df.shape"
   ]
  },
  {
   "cell_type": "code",
   "execution_count": null,
   "id": "dbcf013a",
   "metadata": {},
   "outputs": [],
   "source": [
    "dent_r2s = {}\n",
    "for denticity_class, data in df_test.groupby([\"denticity_class\"]):\n",
    "    dent_r2s[denticity_class] = get_r2(data[\"fia_gas-DSDBLYP\"], data[\"pred_fia_gas-DSDBLYP\"])\n",
    "\n",
    "dent_r2s = {denticity_class: dent_r2s[denticity_class] for denticity_class in [\"mono\", \"bi\", \"tri\"]}\n",
    "\n",
    "dent_r2s = [\"%.3f\" % r2 for r2 in dent_r2s.values()]"
   ]
  },
  {
   "cell_type": "code",
   "execution_count": null,
   "id": "cfc11f17",
   "metadata": {},
   "outputs": [],
   "source": [
    "plt.style.use('default')\n",
    "plt.figure(figsize=(2.1, 1.6))\n",
    "plt.rcParams['figure.dpi'] = 300\n",
    "\n",
    "ax = sns.barplot(\n",
    "    data=dent_maes_df,\n",
    "    x=\"MAE\",\n",
    "    y=\"denticity_class\",\n",
    "    color=sns.color_palette(\"inferno\")[1],\n",
    "    edgecolor=\"black\",\n",
    "    order=[\"mono\", \"bi\", \"tri\"]\n",
    ")\n",
    "\n",
    "for idx, p in enumerate(ax.patches):\n",
    "    ax.annotate(dent_r2s[idx], (p.get_width()+1, p.get_y() + p.get_height() / 2.),\n",
    "                ha='center', va='center', fontsize=12, xytext=(18, 0),\n",
    "                color=(0, 128/255, 128/255),\n",
    "                textcoords='offset points')\n",
    "\n",
    "plt.xlabel(\"MAE$_{gas}$ / kJ mol$^{-1}$\", fontsize=14)\n",
    "plt.ylabel(\"Denticity\\nclass\", fontsize=14)\n",
    "\n",
    "plt.xticks(fontsize=11)\n",
    "plt.yticks(fontsize=11)\n",
    "\n",
    "ax.axvline(x=12.1119, linestyle=\"--\", color=sns.color_palette(\"inferno\")[4], linewidth=3)\n",
    "\n",
    "plt.xlim(0, 25)\n",
    "\n",
    "ax"
   ]
  },
  {
   "cell_type": "markdown",
   "id": "5231530f",
   "metadata": {},
   "source": [
    "### 2b) Test set of the FIA2k-CSD data set (set_assignment == \"test_2\")"
   ]
  },
  {
   "cell_type": "code",
   "execution_count": null,
   "id": "901a38f9",
   "metadata": {},
   "outputs": [],
   "source": [
    "# Get the data of the subset.\n",
    "\n",
    "SET = \"test_2\"\n",
    "df_test_2 = fia_predictions.loc[fia_predictions[\"set_assignment\"] == SET]\n",
    "df_test_2.shape"
   ]
  },
  {
   "cell_type": "code",
   "execution_count": null,
   "id": "cad04801",
   "metadata": {},
   "outputs": [],
   "source": [
    "get_final_results(\n",
    "    df=df_test_2,  \n",
    "    set_assignment=SET, \n",
    "    hue=\"ca_class\", \n",
    "    hue_sort_by=\"MAE_gas\"\n",
    ")"
   ]
  },
  {
   "cell_type": "code",
   "execution_count": null,
   "id": "73767b9f",
   "metadata": {},
   "outputs": [],
   "source": [
    "make_plot(\n",
    "    df=df_test_2, \n",
    "    fia_type=\"fia_solv-DSDBLYP\", \n",
    "    set_assignment=SET, \n",
    "    hover=[\"ca_class\"], \n",
    "    hue=\"denticity_class\", \n",
    "    add_line=True\n",
    ")"
   ]
  },
  {
   "cell_type": "markdown",
   "id": "0cbe47e7",
   "metadata": {},
   "source": [
    "##### Plot for publication"
   ]
  },
  {
   "cell_type": "code",
   "execution_count": null,
   "id": "23174da2",
   "metadata": {},
   "outputs": [],
   "source": [
    "plt.style.use('default')\n",
    "plt.figure(figsize=(4, 4))\n",
    "plt.rcParams['figure.dpi'] = 450\n",
    "ax = sns.scatterplot(\n",
    "    data=df_test_2,\n",
    "    x=\"fia_gas-DSDBLYP\",\n",
    "    y=\"pred_fia_gas-DSDBLYP\",\n",
    "    s=100,\n",
    "    alpha=0.7,\n",
    "    color=sns.color_palette(\"inferno\")[1]\n",
    ")\n",
    "\n",
    "ax = sns.lineplot(\n",
    "    x=[0,575],\n",
    "    y=[0,575],\n",
    "    alpha=0.9,\n",
    "    color=sns.color_palette(\"inferno\")[4],\n",
    "    linestyle='--',\n",
    "    linewidth = 3\n",
    ")\n",
    "\n",
    "ax.annotate(\"FIA2k-CSD (test)\", (0, 550), fontsize=14, weight=\"bold\", style=\"italic\", color=sns.color_palette(\"inferno\")[1])\n",
    "ax.annotate(\"1,200 data points\", (0, 500), fontsize=12, style=\"italic\")\n",
    "ax.annotate(\"MAE: 14.4 kJ mol$^{-1}$\", (210, 50), fontsize=14)\n",
    "ax.annotate(\"r$^2$: 0.905\", (210, 0), fontsize=14)\n",
    "\n",
    "plt.xlabel(\"FIA$_{gas}$ (DFT) / kJ mol$^{-1}$\", fontsize=14)\n",
    "plt.ylabel(\"FIA$_{gas}$ (FIA-GNN) / kJ mol$^{-1}$\", fontsize=14)\n",
    "\n",
    "plt.xticks(fontsize=14)\n",
    "plt.yticks(fontsize=14)\n",
    "\n",
    "ax"
   ]
  },
  {
   "cell_type": "markdown",
   "id": "fb01fb60",
   "metadata": {},
   "source": [
    "##### Specific examples"
   ]
  },
  {
   "cell_type": "code",
   "execution_count": null,
   "id": "abb3aabf",
   "metadata": {},
   "outputs": [],
   "source": [
    "picks = [\n",
    "    \"SAXRUI\",\n",
    "    \"YEHFUQ\",\n",
    "    \"XEKPEM\",\n",
    "    \"WEDXAI\", \n",
    "    \"SENGIF\",\n",
    "    \"POSZUS\",\n",
    "    \"DIVXOX\"\n",
    "]\n",
    "\n",
    "mols = [Chem.MolFromSmiles(smiles) \n",
    "        for name, smiles \n",
    "        in zip(df_test_2[\"Compound\"], df_test_2[\"la_smiles\"]) \n",
    "        if name.split(\"-\")[-1] in picks]\n",
    "\n",
    "labels = [f\"{name}\\n\\n\\n\\nML: {round(pred, 2)}\\tDFT: {round(true, 2)}\" \n",
    "          for name, true, pred \n",
    "          in zip(\n",
    "              df_test_2[\"Compound\"], \n",
    "              df_test_2[\"fia_gas-DSDBLYP\"], \n",
    "              df_test_2[\"pred_fia_gas-DSDBLYP\"])\n",
    "          if name.split(\"-\")[-1] in picks]"
   ]
  },
  {
   "cell_type": "code",
   "execution_count": null,
   "id": "8739b291",
   "metadata": {},
   "outputs": [],
   "source": [
    "Chem.Draw.MolsToGridImage(mols, legends=labels, molsPerRow=3, subImgSize=(400, 400))"
   ]
  },
  {
   "cell_type": "markdown",
   "id": "8ac515b7",
   "metadata": {},
   "source": [
    "##### Analyze outliers"
   ]
  },
  {
   "cell_type": "code",
   "execution_count": null,
   "id": "bd662927",
   "metadata": {},
   "outputs": [],
   "source": [
    "outlier_df = df_test_2.sort_values(by=\"abs_error_fia_gas-DSDBLYP\", ascending=False)[[\n",
    "    \"Compound\",\n",
    "    \n",
    "    \"fia_gas-DSDBLYP\",\n",
    "    \"pred_fia_gas-DSDBLYP\",\n",
    "    \"abs_error_fia_gas-DSDBLYP\"\n",
    "]].head(20)"
   ]
  },
  {
   "cell_type": "code",
   "execution_count": null,
   "id": "cc85f20a",
   "metadata": {},
   "outputs": [],
   "source": [
    "outlier_df"
   ]
  },
  {
   "cell_type": "markdown",
   "id": "0bfb51f9",
   "metadata": {},
   "source": [
    "### 2c) Test set FIA763-bimacro (set_assignment == \"test_3\")"
   ]
  },
  {
   "cell_type": "code",
   "execution_count": null,
   "id": "09c151b7",
   "metadata": {},
   "outputs": [],
   "source": [
    "# Get the data of the subset.\n",
    "\n",
    "SET = \"test_3\"\n",
    "df_test_3 = fia_predictions.loc[fia_predictions[\"set_assignment\"] == SET]\n",
    "df_test_3.shape"
   ]
  },
  {
   "cell_type": "code",
   "execution_count": null,
   "id": "00a94716",
   "metadata": {},
   "outputs": [],
   "source": [
    "get_final_results(\n",
    "    df=df_test_3,  \n",
    "    set_assignment=SET, \n",
    "    hue=\"ca_class\", \n",
    "    hue_sort_by=\"MAE_gas\"\n",
    ")"
   ]
  },
  {
   "cell_type": "code",
   "execution_count": null,
   "id": "7f8509ef",
   "metadata": {},
   "outputs": [],
   "source": [
    "make_plot(\n",
    "    df=df_test_3, \n",
    "    fia_type=\"fia_gas-DSDBLYP\", \n",
    "    set_assignment=SET, \n",
    "    hover=[\"ca_class\"], \n",
    "    hue=\"ca_class\", \n",
    "    add_line=False\n",
    ")"
   ]
  },
  {
   "cell_type": "markdown",
   "id": "ea08fb88",
   "metadata": {},
   "source": [
    "##### Plot for publication"
   ]
  },
  {
   "cell_type": "code",
   "execution_count": null,
   "id": "40a81d74",
   "metadata": {},
   "outputs": [],
   "source": [
    "plt.style.use('default')\n",
    "plt.figure(figsize=(4, 4.5))\n",
    "plt.rcParams['figure.dpi'] = 300\n",
    "ax = sns.scatterplot(\n",
    "    data=df_test_3,\n",
    "    x=\"fia_gas-DSDBLYP\",\n",
    "    y=\"pred_fia_gas-DSDBLYP\",\n",
    "    s=100,\n",
    "    alpha=0.7,\n",
    "    color=sns.color_palette(\"inferno\")[1]\n",
    ")\n",
    "\n",
    "ax = sns.lineplot(\n",
    "    x=[40,550],\n",
    "    y=[40,550],\n",
    "    alpha=0.9,\n",
    "    color=sns.color_palette(\"inferno\")[4],\n",
    "    linestyle='--',\n",
    "    linewidth = 3\n",
    ")\n",
    "\n",
    "ax.annotate(\"FIA763-bimacro\", (40, 525), fontsize=14, weight=\"bold\", style=\"italic\", color=sns.color_palette(\"inferno\")[1])\n",
    "ax.annotate(\"MAE: 24.1 kJ mol$^{-1}$\", (40, 465), fontsize=14)\n",
    "ax.annotate(\"r$^2$: 0.847\", (40, 415), fontsize=14)\n",
    "\n",
    "plt.xlabel(\"FIA$_{gas}$ (DFT) / kJ mol$^{-1}$\", fontsize=14)\n",
    "plt.ylabel(\"FIA$_{gas}$ (FIA-GNN) / kJ mol$^{-1}$\", fontsize=14)\n",
    "\n",
    "plt.xticks(fontsize=14)\n",
    "plt.yticks(fontsize=14)\n",
    "\n",
    "ax"
   ]
  },
  {
   "cell_type": "markdown",
   "id": "07d3e19e",
   "metadata": {},
   "source": [
    "### 2d) Test set FIA911-ring4 (set_assignment == \"test_4\")"
   ]
  },
  {
   "cell_type": "code",
   "execution_count": null,
   "id": "2820bea0",
   "metadata": {},
   "outputs": [],
   "source": [
    "# Get the data of the subset.\n",
    "\n",
    "SET = \"test_4\"\n",
    "df_test_4 = fia_predictions.loc[fia_predictions[\"set_assignment\"] == SET]\n",
    "df_test_4.shape"
   ]
  },
  {
   "cell_type": "code",
   "execution_count": null,
   "id": "8ccd0169",
   "metadata": {},
   "outputs": [],
   "source": [
    "get_final_results(\n",
    "    df=df_test_4,  \n",
    "    set_assignment=SET, \n",
    "    hue=\"ca_class\", \n",
    "    hue_sort_by=\"MAE_gas\"\n",
    ")"
   ]
  },
  {
   "cell_type": "code",
   "execution_count": null,
   "id": "404e6a68",
   "metadata": {},
   "outputs": [],
   "source": [
    "make_plot(\n",
    "    df=df_test_4, \n",
    "    fia_type=\"fia_gas-DSDBLYP\", \n",
    "    set_assignment=SET, \n",
    "    hover=[\"ca_class\"], \n",
    "    hue=\"ca_class\", \n",
    "    add_line=False\n",
    ")"
   ]
  },
  {
   "cell_type": "markdown",
   "id": "6cd46648",
   "metadata": {},
   "source": [
    "##### Plot for publication"
   ]
  },
  {
   "cell_type": "code",
   "execution_count": null,
   "id": "212b160f",
   "metadata": {},
   "outputs": [],
   "source": [
    "plt.style.use('default')\n",
    "plt.figure(figsize=(4, 4.5))\n",
    "plt.rcParams['figure.dpi'] = 300\n",
    "ax = sns.scatterplot(\n",
    "    data=df_test_4,\n",
    "    x=\"fia_gas-DSDBLYP\",\n",
    "    y=\"pred_fia_gas-DSDBLYP\",\n",
    "    s=100,\n",
    "    alpha=0.7,\n",
    "    color=sns.color_palette(\"inferno\")[1]\n",
    ")\n",
    "\n",
    "ax = sns.lineplot(\n",
    "    x=[40,530],\n",
    "    y=[40,530],\n",
    "    alpha=0.9,\n",
    "    color=sns.color_palette(\"inferno\")[4],\n",
    "    linestyle='--',\n",
    "    linewidth = 3\n",
    ")\n",
    "\n",
    "ax.annotate(\"FIA911-ring4\", (40, 508), fontsize=14, weight=\"bold\", style=\"italic\", color=sns.color_palette(\"inferno\")[1])\n",
    "ax.annotate(\"MAE: 17.9 kJ mol$^{-1}$\", (40, 448), fontsize=14)\n",
    "ax.annotate(\"r$^2$: 0.897\", (40, 398), fontsize=14)\n",
    "\n",
    "plt.xlabel(\"FIA$_{gas}$ (DFT) / kJ mol$^{-1}$\", fontsize=14)\n",
    "plt.ylabel(\"FIA$_{gas}$ (FIA-GNN) / kJ mol$^{-1}$\", fontsize=14)\n",
    "\n",
    "plt.xticks(fontsize=14)\n",
    "plt.yticks(fontsize=14)\n",
    "\n",
    "ax"
   ]
  },
  {
   "cell_type": "markdown",
   "id": "d5af31eb",
   "metadata": {},
   "source": [
    "### 2e) Test set FIA15-PTcat (set_assignment == \"test_5\")"
   ]
  },
  {
   "cell_type": "code",
   "execution_count": null,
   "id": "1f0a21cc",
   "metadata": {},
   "outputs": [],
   "source": [
    "# Get the data of the subset.\n",
    "\n",
    "SET = \"test_5\"\n",
    "df_test_5 = fia_predictions.loc[fia_predictions[\"set_assignment\"] == SET]\n",
    "df_test_5.shape"
   ]
  },
  {
   "cell_type": "code",
   "execution_count": null,
   "id": "d07c53d0",
   "metadata": {},
   "outputs": [],
   "source": [
    "get_final_results(\n",
    "    df=df_test_5,  \n",
    "    set_assignment=SET\n",
    ")"
   ]
  },
  {
   "cell_type": "code",
   "execution_count": null,
   "id": "dfe2d730",
   "metadata": {},
   "outputs": [],
   "source": [
    "make_plot(\n",
    "    df=df_test_5, \n",
    "    fia_type=\"fia_solv-DSDBLYP\", \n",
    "    set_assignment=SET, \n",
    "    hover=[\"ca_class\"], \n",
    "    hue=\"denticity_class\", \n",
    "    add_line=False\n",
    ")"
   ]
  },
  {
   "cell_type": "markdown",
   "id": "b0615ddc",
   "metadata": {},
   "source": [
    "##### Plot for publication"
   ]
  },
  {
   "cell_type": "code",
   "execution_count": null,
   "id": "74f995bc",
   "metadata": {},
   "outputs": [],
   "source": [
    "plt.style.use('default')\n",
    "plt.figure(figsize=(5, 4.5))\n",
    "plt.rcParams['figure.dpi'] = 300\n",
    "\n",
    "ax = sns.scatterplot(\n",
    "    data=df_test_5,\n",
    "    x=\"fia_solv-DSDBLYP\",\n",
    "    y=\"pred_fia_solv-DSDBLYP\",\n",
    "    s=100,\n",
    "    alpha=0.7,\n",
    "    color=sns.color_palette(\"inferno\")[1],\n",
    "    zorder=1\n",
    "    \n",
    ")\n",
    "\n",
    "ax = sns.lineplot(\n",
    "    x=[45,260],\n",
    "    y=[45,260],\n",
    "    alpha=0.7,\n",
    "    color=sns.color_palette(\"inferno\")[4],\n",
    "    linestyle='--',\n",
    "    linewidth = 3,\n",
    "    zorder=2\n",
    ")\n",
    "\n",
    "plt.axvspan(95, 120, color=(209/255, 226/255, 238/255), zorder=0)\n",
    "plt.axhspan(95, 120, color=(209/255, 226/255, 238/255), zorder=0)\n",
    "\n",
    "ax.annotate(\"FIA15-PTCat\", (42, 252), fontsize=14, weight=\"bold\", style=\"italic\", color=sns.color_palette(\"inferno\")[1])\n",
    "ax.annotate(\"MAE: 5.6 kJ mol$^{-1}$\", (160,65), fontsize=14)\n",
    "ax.annotate(\"r$^2$: 0.993\", (160,45), fontsize=14)\n",
    "ax.annotate(\"Most active phase\\ntransfer catalysts\", (110,190), fontsize=14, \n",
    "            ha=\"center\", style=\"italic\", color=(0/255, 93/255, 126/255))\n",
    "\n",
    "plt.xlabel(\"FIA$_{solv}$ (DFT) / kJ mol$^{-1}$\", fontsize=14)\n",
    "plt.ylabel(\"FIA$_{solv}$ (FIA-GNN) / kJ mol$^{-1}$\", fontsize=14)\n",
    "\n",
    "plt.xticks(fontsize=14)\n",
    "plt.yticks(fontsize=14)\n",
    "\n",
    "ax"
   ]
  },
  {
   "cell_type": "markdown",
   "id": "0d32dd75",
   "metadata": {},
   "source": [
    "### 2f) Test set FIA31-cat (set_assignment == \"test_6\")"
   ]
  },
  {
   "cell_type": "code",
   "execution_count": null,
   "id": "3713f6b8",
   "metadata": {},
   "outputs": [],
   "source": [
    "# Get the data of the subset.\n",
    "\n",
    "SET = \"test_6\"\n",
    "df_test_6 = fia_predictions.loc[fia_predictions[\"set_assignment\"] == SET]\n",
    "df_test_6 = df_test_6.reset_index(drop=True)\n",
    "df_test_6.shape"
   ]
  },
  {
   "cell_type": "code",
   "execution_count": null,
   "id": "3b98a65f",
   "metadata": {},
   "outputs": [],
   "source": [
    "# Classify the subset into cases with perfluoro- and perchlorocatecholato ligand\n",
    "\n",
    "ligand_classifications = []\n",
    "for idx, data in df_test_6.iterrows():\n",
    "    if \"(F)\" in data[\"la_smiles\"]:\n",
    "        ligand_classifications.append(\"perfluorocatechol\")\n",
    "    elif \"(Cl)\" in data[\"la_smiles\"]:\n",
    "        ligand_classifications.append(\"perchlorocatechol\")\n",
    "    else:\n",
    "        print(\"ERROR !!!\")\n",
    "\n",
    "df_test_6[\"ligand_classification\"] = ligand_classifications\n",
    "df_test_6.shape"
   ]
  },
  {
   "cell_type": "code",
   "execution_count": null,
   "id": "a9e8a645",
   "metadata": {},
   "outputs": [],
   "source": [
    "get_final_results(\n",
    "    df=df_test_6,  \n",
    "    set_assignment=SET, \n",
    "    hue=\"ligand_classification\", \n",
    "    hue_sort_by=\"MAE_gas\"\n",
    ")"
   ]
  },
  {
   "cell_type": "code",
   "execution_count": null,
   "id": "978955b7",
   "metadata": {},
   "outputs": [],
   "source": [
    "make_plot(\n",
    "    df=df_test_6, \n",
    "    fia_type=\"fia_gas-DSDBLYP\", \n",
    "    set_assignment=SET, \n",
    "    hover=[\"ca_class\"], \n",
    "    hue=\"ligand_classification\", \n",
    "    add_line=True\n",
    ")"
   ]
  },
  {
   "cell_type": "code",
   "execution_count": null,
   "id": "6d0545ee",
   "metadata": {},
   "outputs": [],
   "source": [
    "fig = px.scatter(\n",
    "    df_test_6,\n",
    "    x = \"ca_class\",\n",
    "    y = \"fia_gas-DSDBLYP\",\n",
    "    color = \"ligand_classification\",\n",
    "    hover_data = [\"Compound\", \"ca_class\", \"ligand_classification\"],\n",
    "    category_orders = {\"ca_class\": [x for x in list(formatted_ca.values()) if x in set(df_test_6.ca_class)]}\n",
    ")\n",
    "fig"
   ]
  },
  {
   "cell_type": "code",
   "execution_count": null,
   "id": "21f19942",
   "metadata": {},
   "outputs": [],
   "source": [
    "# Differences with respect to the ligands\n",
    "\n",
    "differences = []\n",
    "for i in df_test_6.groupby([\"ca_class\"])[\"fia_gas-DSDBLYP\"]:\n",
    "    print(f\"Central atom class:   {i[0]}\")\n",
    "    values = list(i[1])\n",
    "    print(f\"FIAs:                 {values}\")\n",
    "    if len(values) == 2:\n",
    "        dif = values[0]-values[1]\n",
    "        print(f\"Difference:           {dif}\")\n",
    "        differences.append(abs(dif))\n",
    "    print()\n",
    "\n",
    "np.mean(differences), np.std(differences)"
   ]
  },
  {
   "cell_type": "markdown",
   "id": "2b61ce30",
   "metadata": {},
   "source": [
    "##### Plot for publication"
   ]
  },
  {
   "cell_type": "code",
   "execution_count": null,
   "id": "80f66b6c",
   "metadata": {},
   "outputs": [],
   "source": [
    "# Combine the true and predicted data in one data frame.\n",
    "\n",
    "aux_df_dft = df_test_6.copy()\n",
    "aux_df_ml = df_test_6.copy()\n",
    "\n",
    "aux_df_dft[\"origin\"] = [\"DFT\" for _ in range(len(aux_df_dft))]\n",
    "aux_df_ml[\"origin\"] = [\"FIA-GNN\" for _ in range(len(aux_df_ml))]"
   ]
  },
  {
   "cell_type": "code",
   "execution_count": null,
   "id": "e3ec9143",
   "metadata": {},
   "outputs": [],
   "source": [
    "aux_df_dft[\"Compound\"] = [f\"DFT__{name}\" for name in aux_df_dft[\"Compound\"]]\n",
    "aux_df_ml[\"Compound\"] = [f\"ML__{name}\" for name in aux_df_ml[\"Compound\"]]\n",
    "\n",
    "aux_df_dft[\"FIA\"] = aux_df_dft[\"fia_gas-DSDBLYP\"]\n",
    "aux_df_ml[\"FIA\"] = aux_df_dft[\"pred_fia_gas-DSDBLYP\"]"
   ]
  },
  {
   "cell_type": "code",
   "execution_count": null,
   "id": "c5d13f13",
   "metadata": {},
   "outputs": [],
   "source": [
    "aux_df = pd.concat([aux_df_dft, aux_df_ml])\n",
    "aux_df.shape"
   ]
  },
  {
   "cell_type": "code",
   "execution_count": null,
   "id": "870726a3",
   "metadata": {},
   "outputs": [],
   "source": [
    "aux_df = aux_df[aux_df[\"ligand_classification\"].isin([\"perfluorocatechol\"])]"
   ]
  },
  {
   "cell_type": "code",
   "execution_count": null,
   "id": "bf1fc674",
   "metadata": {},
   "outputs": [],
   "source": [
    "plt.style.use('default')\n",
    "plt.figure(figsize=(9, 4.5))\n",
    "plt.rcParams['figure.dpi'] = 300\n",
    "\n",
    "ax = sns.pointplot(\n",
    "    data=aux_df,\n",
    "    x = \"ca_class\",\n",
    "    y = \"FIA\",\n",
    "    hue=\"origin\",\n",
    "    order=[x for x in list(formatted_ca.values()) if x in set(aux_df.ca_class)],\n",
    "    linestyles=\"\",\n",
    "    markers=['o', 'D'],\n",
    "    palette=[sns.color_palette(\"inferno\")[1], sns.color_palette(\"inferno\")[4]]\n",
    ")\n",
    "\n",
    "plt.setp(\n",
    "    ax.collections, \n",
    "    alpha=0.5,\n",
    "    edgecolor=\"none\",\n",
    "    sizes=[200]\n",
    ")\n",
    "\n",
    "plt.xlabel(\"Central atom class\", fontsize=14)\n",
    "plt.ylabel(\"FIA$_{gas}$ / kJ mol$^{-1}$\", fontsize=14)\n",
    "\n",
    "plt.xticks(fontsize=14)\n",
    "plt.yticks(fontsize=14)\n",
    "ax.set_xticklabels(ax.get_xticklabels(), rotation=45)\n",
    "\n",
    "sns.move_legend(ax, \"upper right\", ncol=2, title=None)\n",
    "plt.setp(ax.get_legend().get_texts(), fontsize='14')\n",
    "ax.legend_.set_title(\"$^{F}cat$ ligand\")\n",
    "plt.setp(ax.get_legend().get_title(), fontsize='16')\n",
    "\n",
    "for lh in ax.legend_.legendHandles: \n",
    "    lh.set_alpha(1)\n",
    "    lh.set_edgecolors(None)\n",
    "    lh.set_sizes([200])\n",
    "\n",
    "ax.annotate(\"MAE: 8.5 kJ mol$^{-1}$\", (-0.2,315), fontsize=14)\n",
    "ax.annotate(\"r$^2$: 0.963\", (-0.2,295), fontsize=14)\n",
    "\n",
    "ax"
   ]
  },
  {
   "cell_type": "markdown",
   "id": "1f0667ed",
   "metadata": {},
   "source": [
    "# 3) Dimensionality reduction of the learned molecular representations"
   ]
  },
  {
   "cell_type": "code",
   "execution_count": null,
   "id": "e5433096",
   "metadata": {},
   "outputs": [],
   "source": [
    "# Load general data file.\n",
    "\n",
    "general_data = pd.read_csv(r\"F:\\FIA_GENERATION\\for_publication\\FINAL\\FIA49k.csv.gz\")\n",
    "general_data = general_data[general_data[\"set_assignment\"].isin([\"train\", \"test\"])]\n",
    "general_data.shape"
   ]
  },
  {
   "cell_type": "code",
   "execution_count": null,
   "id": "ebc096f9",
   "metadata": {},
   "outputs": [],
   "source": [
    "# Read in FIA-GNN embeddings\n",
    "\n",
    "learned_mol_reps = pd.read_csv(r\"F:\\FIA_GENERATION\\for_publication\\FINAL\\FIA49k_fia_gnn_embeddings.csv.gz\")\n",
    "learned_mol_reps = learned_mol_reps[learned_mol_reps[\"Compound\"].isin(general_data[\"Compound\"])]\n",
    "learned_mol_reps.shape"
   ]
  },
  {
   "cell_type": "code",
   "execution_count": null,
   "id": "ce1c881d",
   "metadata": {},
   "outputs": [],
   "source": [
    "# Formatting.\n",
    "\n",
    "learned_mol_reps = learned_mol_reps.merge(general_data[[\"Compound\", \"set_assignment\"]], on=\"Compound\")\n",
    "learned_mol_reps.shape"
   ]
  },
  {
   "cell_type": "code",
   "execution_count": null,
   "id": "c2092d06",
   "metadata": {},
   "outputs": [],
   "source": [
    "# Do train/all splitting.\n",
    "\n",
    "# Train sets\n",
    "X_train_32_gas = learned_mol_reps.loc[learned_mol_reps[\"set_assignment\"] == \"train\"]\n",
    "X_train_32_gas = X_train_32_gas.drop([col for col in X_train_32_gas.columns if not col.startswith(\"vec32_gas_\")], axis=1)\n",
    "\n",
    "X_train_32_solv = learned_mol_reps.loc[learned_mol_reps[\"set_assignment\"] == \"train\"]\n",
    "X_train_32_solv = X_train_32_solv.drop([col for col in X_train_32_solv.columns if not col.startswith(\"vec32_solv_\")], axis=1)\n",
    "\n",
    "X_train_128_gas = learned_mol_reps.loc[learned_mol_reps[\"set_assignment\"] == \"train\"]\n",
    "X_train_128_gas = X_train_128_gas.drop([col for col in X_train_128_gas.columns if not col.startswith(\"vec128_gas_\")], axis=1)\n",
    "\n",
    "X_train_128_solv = learned_mol_reps.loc[learned_mol_reps[\"set_assignment\"] == \"train\"]\n",
    "X_train_128_solv = X_train_128_solv.drop([col for col in X_train_128_solv.columns if not col.startswith(\"vec128_solv_\")], axis=1)\n",
    "\n",
    "# All (train + test)\n",
    "X_all_32_gas = learned_mol_reps.drop([col for col in learned_mol_reps.columns if not col.startswith(\"vec32_gas_\")], axis=1)\n",
    "\n",
    "X_all_32_solv = learned_mol_reps.drop([col for col in learned_mol_reps.columns if not col.startswith(\"vec32_solv_\")], axis=1)\n",
    "\n",
    "X_all_128_gas = learned_mol_reps.drop([col for col in learned_mol_reps.columns if not col.startswith(\"vec128_gas_\")], axis=1)\n",
    "\n",
    "X_all_128_solv = learned_mol_reps.drop([col for col in learned_mol_reps.columns if not col.startswith(\"vec128_solv_\")], axis=1)"
   ]
  },
  {
   "cell_type": "code",
   "execution_count": null,
   "id": "e552599f",
   "metadata": {},
   "outputs": [],
   "source": [
    "X_train_32_gas.shape, X_train_32_solv.shape, X_train_128_gas.shape, X_train_128_solv.shape"
   ]
  },
  {
   "cell_type": "code",
   "execution_count": null,
   "id": "38c6631c",
   "metadata": {},
   "outputs": [],
   "source": [
    "X_all_32_gas.shape, X_all_32_solv.shape, X_all_128_gas.shape, X_all_128_solv.shape"
   ]
  },
  {
   "cell_type": "code",
   "execution_count": null,
   "id": "9abda663",
   "metadata": {},
   "outputs": [],
   "source": [
    "# Train reducers\n",
    "\n",
    "# 32_gas\n",
    "umap_reducer_32_gas = umap.UMAP(random_state=42)\n",
    "umap_reducer_32_gas.fit(X_train_32_gas)\n",
    "print(\"32_gas done.\")\n",
    "\n",
    "# 32_solv\n",
    "umap_reducer_32_solv = umap.UMAP(random_state=42)\n",
    "umap_reducer_32_solv.fit(X_train_32_solv)\n",
    "print(\"32_solv done.\")\n",
    "\n",
    "# 128_gas\n",
    "umap_reducer_128_gas = umap.UMAP(random_state=42)\n",
    "umap_reducer_128_gas.fit(X_train_128_gas)\n",
    "print(\"128_gas done.\")\n",
    "\n",
    "# 128_solv\n",
    "umap_reducer_128_solv = umap.UMAP(random_state=42)\n",
    "umap_reducer_128_solv.fit(X_train_128_solv)\n",
    "print(\"128_solv done.\")"
   ]
  },
  {
   "cell_type": "code",
   "execution_count": null,
   "id": "4d7018de",
   "metadata": {},
   "outputs": [],
   "source": [
    "# Get UMAP embeddings\n",
    "\n",
    "umap_embedding_32_gas = umap_reducer_32_gas.transform(X_all_32_gas)\n",
    "umap_embedding_32_solv = umap_reducer_32_solv.transform(X_all_32_solv)\n",
    "\n",
    "umap_embedding_128_gas = umap_reducer_128_gas.transform(X_all_128_gas)\n",
    "umap_embedding_128_solv = umap_reducer_128_solv.transform(X_all_128_solv)"
   ]
  },
  {
   "cell_type": "code",
   "execution_count": null,
   "id": "6f74f628",
   "metadata": {},
   "outputs": [],
   "source": [
    "# Save UMAP embeddings\n",
    "\n",
    "general_data[\"UMAP_1__32_gas\"] = list(umap_embedding_32_gas[:,0])\n",
    "general_data[\"UMAP_2__32_gas\"] = list(umap_embedding_32_gas[:,1])\n",
    "\n",
    "general_data[\"UMAP_1__32_solv\"] = list(umap_embedding_32_solv[:,0])\n",
    "general_data[\"UMAP_2__32_solv\"] = list(umap_embedding_32_solv[:,1])\n",
    "\n",
    "general_data[\"UMAP_1__128_gas\"] = list(umap_embedding_128_gas[:,0])\n",
    "general_data[\"UMAP_2__128_gas\"] = list(umap_embedding_128_gas[:,1])\n",
    "\n",
    "general_data[\"UMAP_1__128_solv\"] = list(umap_embedding_128_solv[:,0])\n",
    "general_data[\"UMAP_2__128_solv\"] = list(umap_embedding_128_solv[:,1])"
   ]
  },
  {
   "cell_type": "code",
   "execution_count": null,
   "id": "8a693047",
   "metadata": {},
   "outputs": [],
   "source": [
    "fig = px.scatter(\n",
    "    general_data,\n",
    "    x = \"UMAP_1__128_gas\",\n",
    "    y = \"UMAP_2__128_gas\",\n",
    "    color = \"ca_class\",\n",
    "    hover_data = [\"Compound\"],\n",
    "    color_discrete_sequence = px.colors.qualitative.Alphabet\n",
    ")\n",
    "fig"
   ]
  },
  {
   "cell_type": "markdown",
   "id": "058a5c5a",
   "metadata": {},
   "source": [
    "##### Plots for publication"
   ]
  },
  {
   "cell_type": "code",
   "execution_count": null,
   "id": "51b486bb",
   "metadata": {},
   "outputs": [],
   "source": [
    "# 32, FIA_gas\n",
    "\n",
    "plt.rcParams['figure.dpi'] = 300\n",
    "\n",
    "ax = sns.scatterplot(\n",
    "    data=general_data,\n",
    "    x=\"UMAP_1__32_gas\",\n",
    "    y=\"UMAP_2__32_gas\",\n",
    "    hue=\"fia_gas-DSDBLYP\",\n",
    "    palette=\"inferno\",\n",
    "    edgecolor=\"black\",\n",
    ")\n",
    "\n",
    "ax.set_xlabel(\"UMAP 1\", size=14)\n",
    "ax.set_ylabel(\"UMAP 2\", size=14)\n",
    "\n",
    "sns.move_legend(ax, \"lower center\", ncol=5, title=\"FIA$_{gas}$ / kJ mol$^{-1}$\")\n",
    "\n",
    "ax.set(xticklabels=[])\n",
    "ax.set(yticklabels=[])\n",
    "ax.tick_params(left=False, bottom=False)\n",
    "\n",
    "ax.collections[0].set_sizes([25])\n",
    "\n",
    "plt.ylim(-20, 24)\n",
    "\n",
    "ax"
   ]
  },
  {
   "cell_type": "markdown",
   "id": "88a84a83",
   "metadata": {},
   "source": [
    "***"
   ]
  },
  {
   "cell_type": "code",
   "execution_count": null,
   "id": "541c8dbe",
   "metadata": {},
   "outputs": [],
   "source": [
    "# 32, FIA_solv\n",
    "\n",
    "plt.rcParams['figure.dpi'] = 300\n",
    "\n",
    "ax = sns.scatterplot(\n",
    "    data=general_data,\n",
    "    x=\"UMAP_1__32_solv\",\n",
    "    y=\"UMAP_2__32_solv\",\n",
    "    hue=\"fia_solv-DSDBLYP\",\n",
    "    palette=\"inferno\",\n",
    "    edgecolor=\"black\",\n",
    ")\n",
    "\n",
    "ax.set_xlabel(\"UMAP 1\", size=14)\n",
    "ax.set_ylabel(\"UMAP 2\", size=14)\n",
    "\n",
    "sns.move_legend(ax, \"lower center\", ncol=5, title=\"FIA$_{solv}$ / kJ mol$^{-1}$\")\n",
    "\n",
    "ax.set(xticklabels=[])\n",
    "ax.set(yticklabels=[])\n",
    "ax.tick_params(left=False, bottom=False)\n",
    "\n",
    "ax.collections[0].set_sizes([25])\n",
    "\n",
    "plt.ylim(-20, 25)\n",
    "\n",
    "ax"
   ]
  },
  {
   "cell_type": "markdown",
   "id": "e19302b8",
   "metadata": {},
   "source": [
    "***"
   ]
  },
  {
   "cell_type": "code",
   "execution_count": null,
   "id": "846ff45d",
   "metadata": {},
   "outputs": [],
   "source": [
    "# 128, FIA_gas\n",
    "\n",
    "plt.rcParams['figure.dpi'] = 300\n",
    "\n",
    "ax = sns.scatterplot(\n",
    "    data=general_data,\n",
    "    x=\"UMAP_1__128_gas\",\n",
    "    y=\"UMAP_2__128_gas\",\n",
    "    hue=\"ca_class\",\n",
    "    palette=plotly.colors.qualitative.Light24_r,\n",
    "    hue_order=formatted_ca.values(),\n",
    "    edgecolor=\"black\",\n",
    "    style=\"denticity_class\"\n",
    ")\n",
    "\n",
    "ax.set_xlabel(\"UMAP 1\", size=14)\n",
    "ax.set_ylabel(\"UMAP 2\", size=14)\n",
    "\n",
    "sns.move_legend(ax, \"lower center\", ncol=7, title=\"\", fontsize=\"small\", handletextpad=0, columnspacing=1)\n",
    "# ax.legend_.remove()\n",
    "\n",
    "ax.set(xticklabels=[])\n",
    "ax.set(yticklabels=[])\n",
    "ax.tick_params(left=False, bottom=False)\n",
    "\n",
    "ax.collections[0].set_sizes([60])\n",
    "\n",
    "plt.ylim(-45, 27)\n",
    "\n",
    "ax"
   ]
  },
  {
   "cell_type": "markdown",
   "id": "a6d651a2",
   "metadata": {},
   "source": [
    "***"
   ]
  },
  {
   "cell_type": "code",
   "execution_count": null,
   "id": "48c62c16",
   "metadata": {},
   "outputs": [],
   "source": [
    "# 128, FIA_solv\n",
    "\n",
    "plt.rcParams['figure.dpi'] = 300\n",
    "\n",
    "ax = sns.scatterplot(\n",
    "    data=general_data,\n",
    "    x=\"UMAP_1__128_solv\",\n",
    "    y=\"UMAP_2__128_solv\",\n",
    "    hue=\"ca_class\",\n",
    "    palette=plotly.colors.qualitative.Light24_r,\n",
    "    hue_order=formatted_ca.values(),\n",
    "    edgecolor=\"black\",\n",
    "    style=\"denticity_class\"\n",
    ")\n",
    "\n",
    "ax.set_xlabel(\"UMAP 1\", size=14)\n",
    "ax.set_ylabel(\"UMAP 2\", size=14)\n",
    "\n",
    "sns.move_legend(ax, \"lower center\", ncol=7, title=\"\", fontsize=\"small\", handletextpad=0, columnspacing=1)\n",
    "# ax.legend_.remove()\n",
    "\n",
    "ax.set(xticklabels=[])\n",
    "ax.set(yticklabels=[])\n",
    "ax.tick_params(left=False, bottom=False)\n",
    "\n",
    "ax.collections[0].set_sizes([60])\n",
    "\n",
    "plt.ylim(-50, 27)\n",
    "\n",
    "ax"
   ]
  }
 ],
 "metadata": {
  "kernelspec": {
   "display_name": "Python (ml_env_local)",
   "language": "python",
   "name": "ml_env_local"
  },
  "language_info": {
   "codemirror_mode": {
    "name": "ipython",
    "version": 3
   },
   "file_extension": ".py",
   "mimetype": "text/x-python",
   "name": "python",
   "nbconvert_exporter": "python",
   "pygments_lexer": "ipython3",
   "version": "3.10.4"
  }
 },
 "nbformat": 4,
 "nbformat_minor": 5
}
