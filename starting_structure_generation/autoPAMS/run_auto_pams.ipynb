{
 "cells": [
  {
   "cell_type": "code",
   "execution_count": null,
   "id": "6940db84",
   "metadata": {},
   "outputs": [],
   "source": [
    "from auto_pams_lg import load_building_blocks, build_final_ligand\n",
    "from auto_pams import structure_gen\n",
    "from auto_pams_dm import DataSetManager\n",
    "\n",
    "# Deactivate rdkit messages\n",
    "from rdkit import RDLogger   \n",
    "RDLogger.DisableLog(\"rdApp.*\")"
   ]
  },
  {
   "cell_type": "markdown",
   "id": "597f1a99",
   "metadata": {},
   "source": [
    "# 1) Start a new data set and get embedded Lewis acid structures"
   ]
  },
  {
   "cell_type": "code",
   "execution_count": null,
   "id": "64e4bd2d",
   "metadata": {},
   "outputs": [],
   "source": [
    "# Load the desired building block space, can either be \"full\", \"partially_reduced\", or \"fully_reduced\". Default is \"full\".\n",
    "load_building_blocks(\"fully_reduced\")"
   ]
  },
  {
   "cell_type": "code",
   "execution_count": null,
   "id": "79b6b855",
   "metadata": {},
   "outputs": [],
   "source": [
    "data_set = DataSetManager(\n",
    "    num=5,  # In total, 100 data points will be initialized\n",
    "    gen_ligand=build_final_ligand,\n",
    "    gen_structure=structure_gen,\n",
    "    only_SMILES=False,  # default, generate 3D structure. Set this to True if you would like to generate SMILES strings only.\n",
    "    only_LA=True,  # default, embed only the structure of the Lewis acid. If the 3D structure of the fluoride adduct should also be generated, set this to False\n",
    ")"
   ]
  },
  {
   "cell_type": "code",
   "execution_count": null,
   "id": "4cac1d73",
   "metadata": {},
   "outputs": [],
   "source": [
    "# Distribution of the molecules that are going to be generated with respect to the central atom classes\n",
    "data_set.num_dict"
   ]
  },
  {
   "cell_type": "code",
   "execution_count": null,
   "id": "c1f9cea4",
   "metadata": {},
   "outputs": [],
   "source": [
    "# Run the structure generation\n",
    "data_set.gen_complexes()"
   ]
  },
  {
   "cell_type": "code",
   "execution_count": null,
   "id": "1eacaa2d",
   "metadata": {},
   "outputs": [],
   "source": [
    "# Save the final data files. All files starting with \"autosave-file-\" can now be deleted.\n",
    "data_set.save(\"example_data_set_100\")"
   ]
  },
  {
   "cell_type": "markdown",
   "id": "aa8d58d9",
   "metadata": {},
   "source": [
    "# 2) Restart from an existing data set and get embedded Lewis acid structures"
   ]
  },
  {
   "cell_type": "code",
   "execution_count": null,
   "id": "033c8d98",
   "metadata": {},
   "outputs": [],
   "source": [
    "# Load the desired building block space, can either be \"full\", \"partially_reduced\", or \"fully_reduced\". Default is \"full\".\n",
    "load_building_blocks(\"fully_reduced\")"
   ]
  },
  {
   "cell_type": "code",
   "execution_count": null,
   "id": "468d1292",
   "metadata": {},
   "outputs": [],
   "source": [
    "data_set = DataSetManager.load(\n",
    "    file_name=\"example_data_set_100.json\", \n",
    "    gen_ligand=build_final_ligand, \n",
    "    gen_structure=structure_gen, \n",
    "    num=150,  # In total, 150 data points will be initialized\n",
    "    only_SMILES=False,  # default, generate 3D structure\n",
    "    only_LA=True,  # default, embed only the structure of the Lewis acid\n",
    ")"
   ]
  },
  {
   "cell_type": "code",
   "execution_count": null,
   "id": "99b12d15",
   "metadata": {},
   "outputs": [],
   "source": [
    "# Distribution of the molecules that are going to be generated with respect to the central atom classes\n",
    "data_set.num_dict"
   ]
  },
  {
   "cell_type": "code",
   "execution_count": null,
   "id": "0bb7ff34",
   "metadata": {},
   "outputs": [],
   "source": [
    "# Run the structure generation\n",
    "data_set.gen_complexes()"
   ]
  },
  {
   "cell_type": "code",
   "execution_count": null,
   "id": "badb3df2",
   "metadata": {},
   "outputs": [],
   "source": [
    "# Save the final data files. All files starting with \"autosave-file-\" can now be deleted.\n",
    "data_set.save(\"example_data_set_150\")"
   ]
  },
  {
   "cell_type": "markdown",
   "id": "c0ad8bcc",
   "metadata": {},
   "source": [
    "# 3) Run autoPAMS_FA"
   ]
  },
  {
   "cell_type": "code",
   "execution_count": null,
   "id": "a213cbed",
   "metadata": {},
   "outputs": [],
   "source": [
    "import pickle\n",
    "import glob\n",
    "from auto_pams_fa import AutoPAMS_FA"
   ]
  },
  {
   "cell_type": "code",
   "execution_count": null,
   "id": "4d0cd4d9",
   "metadata": {},
   "outputs": [],
   "source": [
    "# Path to atom connectivity file (as produced by autoPAMS) with all Lewis acid atom connectivities.\n",
    "PATH = \"connectivity_out.pkl\" # Must first be generated with a run from scratch."
   ]
  },
  {
   "cell_type": "code",
   "execution_count": null,
   "id": "ac9a17b1",
   "metadata": {},
   "outputs": [],
   "source": [
    "# Read in a connectivity file\n",
    "with open(PATH, \"rb\") as f:\n",
    "    atom_connectivities = pickle.load(f)\n",
    "len(atom_connectivities)"
   ]
  },
  {
   "cell_type": "code",
   "execution_count": null,
   "id": "29d1342b",
   "metadata": {},
   "outputs": [],
   "source": [
    "# Loop over all Lewis acid structures for which fluoride adduct structures should be generated\n",
    "for file in glob.glob(r\"auto_pams_fa_xyz_inp\\*.xyz\"):\n",
    "    atom_connectivities = AutoPAMS_FA(\n",
    "        la_struc_file=file,\n",
    "        atom_connectivities=atom_connectivities\n",
    "    )()"
   ]
  },
  {
   "cell_type": "code",
   "execution_count": null,
   "id": "933e9ec9",
   "metadata": {},
   "outputs": [],
   "source": [
    "# Save updated atom connectivity file\n",
    "with open(PATH, \"wb\") as f:\n",
    "    pickle.dump(atom_connectivities, f)"
   ]
  }
 ],
 "metadata": {
  "kernelspec": {
   "display_name": "Python (ml_env_local)",
   "language": "python",
   "name": "ml_env_local"
  },
  "language_info": {
   "codemirror_mode": {
    "name": "ipython",
    "version": 3
   },
   "file_extension": ".py",
   "mimetype": "text/x-python",
   "name": "python",
   "nbconvert_exporter": "python",
   "pygments_lexer": "ipython3",
   "version": "3.10.4"
  }
 },
 "nbformat": 4,
 "nbformat_minor": 5
}
