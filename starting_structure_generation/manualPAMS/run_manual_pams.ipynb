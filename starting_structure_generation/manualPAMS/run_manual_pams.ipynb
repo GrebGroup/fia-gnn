{
 "cells": [
  {
   "cell_type": "code",
   "execution_count": null,
   "id": "25c55c51",
   "metadata": {},
   "outputs": [],
   "source": [
    "import os\n",
    "import json\n",
    "import pickle\n",
    "from manual_pams import ManualPAMS\n",
    "\n",
    "from rdkit import RDLogger\n",
    "RDLogger.DisableLog(\"rdApp.*\")"
   ]
  },
  {
   "cell_type": "markdown",
   "id": "11e8ed1e",
   "metadata": {},
   "source": [
    "# Introduce new data"
   ]
  },
  {
   "cell_type": "markdown",
   "id": "e4585192",
   "metadata": {},
   "source": [
    "### From scratch"
   ]
  },
  {
   "cell_type": "code",
   "execution_count": null,
   "id": "1cd8b62d",
   "metadata": {},
   "outputs": [],
   "source": [
    "# Load the 'manual data', e.g. a dictionary of molecule names and SMILES strings\n",
    "with open(r\"manual_pams_inp\\manual_pams_example_input.json\", \"r\") as f:\n",
    "    manual_data = json.load(f)\n",
    "len(manual_data)"
   ]
  },
  {
   "cell_type": "code",
   "execution_count": null,
   "id": "ca903d91",
   "metadata": {},
   "outputs": [],
   "source": [
    "# Run manualPAMS\n",
    "\n",
    "all_auto_pams_data = {}\n",
    "atom_connectivities = {}\n",
    "\n",
    "for name, smiles in manual_data.items():\n",
    "    \n",
    "    manual_pams = ManualPAMS(smiles=smiles)\n",
    "    \n",
    "    auto_pams_data = manual_pams(\n",
    "        custom_name=name,\n",
    "        ignor_mini_ligands=True\n",
    "    )\n",
    "    \n",
    "    all_auto_pams_data[name] = auto_pams_data[1]\n",
    "    atom_connectivities = {**atom_connectivities, **auto_pams_data[2]}"
   ]
  },
  {
   "cell_type": "code",
   "execution_count": null,
   "id": "f3d72d4c",
   "metadata": {},
   "outputs": [],
   "source": [
    "# Sort generated autoPAMS data\n",
    "all_auto_pams_data = dict(sorted(all_auto_pams_data.items(), reverse=False))\n",
    "len(all_auto_pams_data)"
   ]
  },
  {
   "cell_type": "code",
   "execution_count": null,
   "id": "10a5df4e",
   "metadata": {},
   "outputs": [],
   "source": [
    "# Save generated autoPAMS data\n",
    "with open(r\"manual_pams_out\\manual_pams_example_output.json\", \"w\") as f:\n",
    "    json.dump(all_auto_pams_data, f, indent=4)"
   ]
  },
  {
   "cell_type": "code",
   "execution_count": null,
   "id": "cd01dc2c",
   "metadata": {},
   "outputs": [],
   "source": [
    "# Save atom connectivities\n",
    "with open(r\"manual_pams_out\\manual_pams_example_output.pkl\", \"wb\") as f:\n",
    "    pickle.dump(atom_connectivities, f)\n",
    "len(atom_connectivities)"
   ]
  },
  {
   "cell_type": "markdown",
   "id": "46afff57",
   "metadata": {},
   "source": [
    "### From mol files"
   ]
  },
  {
   "cell_type": "code",
   "execution_count": null,
   "id": "3a5727f8",
   "metadata": {},
   "outputs": [],
   "source": [
    "# Load the 'manual data', e.g. a dictionary of molecule names and SMILES strings\n",
    "with open(r\"manual_pams_inp\\manual_pams_example_input.json\", \"r\") as f:\n",
    "    manual_data = json.load(f)\n",
    "len(manual_data)"
   ]
  },
  {
   "cell_type": "code",
   "execution_count": null,
   "id": "22bc2273",
   "metadata": {},
   "outputs": [],
   "source": [
    "# Load the mol files\n",
    "mol_files = [file.split(\".\")[0] for file in os.listdir(os.path.join(\"manual_pams_out\", \"mol_out\"))]\n",
    "len(mol_files)"
   ]
  },
  {
   "cell_type": "code",
   "execution_count": null,
   "id": "d915ab29",
   "metadata": {},
   "outputs": [],
   "source": [
    "# Load the autoPAMS atom connectivity file\n",
    "with open(os.path.join(\"manual_pams_out\", \"manual_pams_example_output.pkl\"), \"rb\") as f:\n",
    "    atom_connectivities = pickle.load(f)\n",
    "len(atom_connectivities)"
   ]
  },
  {
   "cell_type": "code",
   "execution_count": null,
   "id": "97b0895b",
   "metadata": {},
   "outputs": [],
   "source": [
    "for name, smiles in manual_data.items():\n",
    "    if name in mol_files:\n",
    "        manual_pams = ManualPAMS(smiles=smiles)\n",
    "        \n",
    "        auto_pams_data = manual_pams.get_xyz_from_mol_file(\n",
    "            file_path=os.path.join(\"manual_pams_out\", \"mol_out\", f\"{name}.mol\"),\n",
    "            uff_optimize=True\n",
    "        )\n",
    "        \n",
    "        atom_connectivities = {**atom_connectivities, **auto_pams_data[2]}"
   ]
  },
  {
   "cell_type": "code",
   "execution_count": null,
   "id": "53005db3",
   "metadata": {},
   "outputs": [],
   "source": [
    "# Save atom connectivities\n",
    "with open(r\"manual_pams_out\\manual_pams_example_output.pkl\", \"wb\") as f:\n",
    "    pickle.dump(atom_connectivities, f)\n",
    "len(atom_connectivities)"
   ]
  },
  {
   "cell_type": "markdown",
   "id": "ec610519",
   "metadata": {},
   "source": [
    "### By hand"
   ]
  },
  {
   "cell_type": "markdown",
   "id": "1baf5137",
   "metadata": {},
   "source": [
    "**Use ChemDraw (or any other program) to generate 3D structures:**  \n",
    "1) Copy the SMILES string to clipboard  \n",
    "2) Paste it to ChemDraw with Alt+Ctrl+P  \n",
    "3) Do 3D cleanup in ChemDraw (little tetraeder symbol)  \n",
    "4) Mark the entire molecule and copy it to clipboard with Alt+Shift+Ctrl+O  \n",
    "5) Paste it to a file called *.mol"
   ]
  }
 ],
 "metadata": {
  "kernelspec": {
   "display_name": "Python (ml_env_local)",
   "language": "python",
   "name": "ml_env_local"
  },
  "language_info": {
   "codemirror_mode": {
    "name": "ipython",
    "version": 3
   },
   "file_extension": ".py",
   "mimetype": "text/x-python",
   "name": "python",
   "nbconvert_exporter": "python",
   "pygments_lexer": "ipython3",
   "version": "3.10.4"
  }
 },
 "nbformat": 4,
 "nbformat_minor": 5
}
