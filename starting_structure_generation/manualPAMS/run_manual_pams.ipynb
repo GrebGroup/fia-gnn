{
 "cells": [
  {
   "cell_type": "code",
   "execution_count": 1,
   "id": "25c55c51",
   "metadata": {},
   "outputs": [
    {
     "name": "stdout",
     "output_type": "stream",
     "text": [
      "[manual_pams] Main output directory already exists.\n"
     ]
    }
   ],
   "source": [
    "import os\n",
    "import json\n",
    "import pickle\n",
    "from manual_pams import ManualPAMS\n",
    "\n",
    "from rdkit import RDLogger\n",
    "RDLogger.DisableLog(\"rdApp.*\")"
   ]
  },
  {
   "cell_type": "markdown",
   "id": "11e8ed1e",
   "metadata": {},
   "source": [
    "# Introduce new data"
   ]
  },
  {
   "cell_type": "markdown",
   "id": "e4585192",
   "metadata": {},
   "source": [
    "### From scratch"
   ]
  },
  {
   "cell_type": "code",
   "execution_count": null,
   "id": "1cd8b62d",
   "metadata": {},
   "outputs": [],
   "source": [
    "# Load the 'manual data', e.g. a dictionary of molecule names and SMILES strings\n",
    "with open(r\"manual_pams_inp\\manual_pams_example_input.json\", \"r\") as f:\n",
    "    manual_data = json.load(f)\n",
    "len(manual_data)"
   ]
  },
  {
   "cell_type": "code",
   "execution_count": null,
   "id": "ca903d91",
   "metadata": {},
   "outputs": [],
   "source": [
    "# Run manualPAMS\n",
    "\n",
    "all_auto_pams_data = {}\n",
    "atom_connectivities = {}\n",
    "\n",
    "for name, smiles in manual_data.items():\n",
    "    \n",
    "    manual_pams = ManualPAMS(smiles=smiles)\n",
    "    \n",
    "    auto_pams_data = manual_pams(\n",
    "        custom_name=name,\n",
    "        ignor_mini_ligands=True\n",
    "    )\n",
    "    \n",
    "    all_auto_pams_data[name] = auto_pams_data[1]\n",
    "    atom_connectivities = {**atom_connectivities, **auto_pams_data[2]}"
   ]
  },
  {
   "cell_type": "code",
   "execution_count": null,
   "id": "f3d72d4c",
   "metadata": {},
   "outputs": [],
   "source": [
    "# Sort generated autoPAMS data\n",
    "all_auto_pams_data = dict(sorted(all_auto_pams_data.items(), reverse=False))\n",
    "len(all_auto_pams_data)"
   ]
  },
  {
   "cell_type": "code",
   "execution_count": null,
   "id": "10a5df4e",
   "metadata": {},
   "outputs": [],
   "source": [
    "# Save generated autoPAMS data\n",
    "with open(r\"manual_pams_out\\manual_pams_example_output.json\", \"w\") as f:\n",
    "    json.dump(all_auto_pams_data, f, indent=4)"
   ]
  },
  {
   "cell_type": "code",
   "execution_count": null,
   "id": "cd01dc2c",
   "metadata": {},
   "outputs": [],
   "source": [
    "# Save atom connectivities\n",
    "with open(r\"manual_pams_out\\manual_pams_example_output.pkl\", \"wb\") as f:\n",
    "    pickle.dump(atom_connectivities, f)\n",
    "len(atom_connectivities)"
   ]
  },
  {
   "cell_type": "markdown",
   "id": "46afff57",
   "metadata": {},
   "source": [
    "### From mol files"
   ]
  },
  {
   "cell_type": "code",
   "execution_count": 2,
   "id": "3a5727f8",
   "metadata": {},
   "outputs": [
    {
     "data": {
      "text/plain": [
       "3"
      ]
     },
     "execution_count": 2,
     "metadata": {},
     "output_type": "execute_result"
    }
   ],
   "source": [
    "# Load the 'manual data', e.g. a dictionary of molecule names and SMILES strings\n",
    "with open(r\"manual_pams_inp\\manual_pams_example_input.json\", \"r\") as f:\n",
    "    manual_data = json.load(f)\n",
    "len(manual_data)"
   ]
  },
  {
   "cell_type": "code",
   "execution_count": 3,
   "id": "22bc2273",
   "metadata": {},
   "outputs": [
    {
     "data": {
      "text/plain": [
       "1"
      ]
     },
     "execution_count": 3,
     "metadata": {},
     "output_type": "execute_result"
    }
   ],
   "source": [
    "# Load the mol files\n",
    "mol_files = [file.split(\".\")[0] for file in os.listdir(os.path.join(\"manual_pams_out\", \"mol_out\"))]\n",
    "len(mol_files)"
   ]
  },
  {
   "cell_type": "code",
   "execution_count": 4,
   "id": "d915ab29",
   "metadata": {},
   "outputs": [
    {
     "data": {
      "text/plain": [
       "2"
      ]
     },
     "execution_count": 4,
     "metadata": {},
     "output_type": "execute_result"
    }
   ],
   "source": [
    "# Load the autoPAMS atom connectivity file\n",
    "with open(os.path.join(\"manual_pams_out\", \"manual_pams_example_output.pkl\"), \"rb\") as f:\n",
    "    atom_connectivities = pickle.load(f)\n",
    "len(atom_connectivities)"
   ]
  },
  {
   "cell_type": "code",
   "execution_count": 5,
   "id": "97b0895b",
   "metadata": {},
   "outputs": [
    {
     "name": "stdout",
     "output_type": "stream",
     "text": [
      "---------------------------------------------------------\n",
      "[manual_pams] Working on ONOTeMe\n",
      "---------------------------------------------------------\n",
      "    [manual_pams] UFF optimization was successful and structure was saved.\n",
      "    [manual_pams] Error: None\n"
     ]
    }
   ],
   "source": [
    "for name, smiles in manual_data.items():\n",
    "    if name in mol_files:\n",
    "        manual_pams = ManualPAMS(smiles=smiles)\n",
    "        \n",
    "        auto_pams_data = manual_pams.get_xyz_from_mol_file(\n",
    "            file_path=os.path.join(\"manual_pams_out\", \"mol_out\", f\"{name}.mol\"),\n",
    "            uff_optimize=True\n",
    "        )\n",
    "        \n",
    "        atom_connectivities = {**atom_connectivities, **auto_pams_data[2]}"
   ]
  },
  {
   "cell_type": "code",
   "execution_count": 6,
   "id": "53005db3",
   "metadata": {},
   "outputs": [
    {
     "data": {
      "text/plain": [
       "3"
      ]
     },
     "execution_count": 6,
     "metadata": {},
     "output_type": "execute_result"
    }
   ],
   "source": [
    "# Save atom connectivities\n",
    "with open(r\"manual_pams_out\\manual_pams_example_output.pkl\", \"wb\") as f:\n",
    "    pickle.dump(atom_connectivities, f)\n",
    "len(atom_connectivities)"
   ]
  },
  {
   "cell_type": "code",
   "execution_count": 7,
   "id": "8aa4057b",
   "metadata": {},
   "outputs": [
    {
     "data": {
      "text/plain": [
       "{'Ph2BF': array([[ 0,  1],\n",
       "        [ 0,  2],\n",
       "        [ 0,  8],\n",
       "        [ 2,  3],\n",
       "        [ 2,  7],\n",
       "        [ 3,  4],\n",
       "        [ 3, 14],\n",
       "        [ 4,  5],\n",
       "        [ 4, 15],\n",
       "        [ 5,  6],\n",
       "        [ 5, 16],\n",
       "        [ 6,  7],\n",
       "        [ 6, 17],\n",
       "        [ 7, 18],\n",
       "        [ 8,  9],\n",
       "        [ 8, 13],\n",
       "        [ 9, 10],\n",
       "        [ 9, 19],\n",
       "        [10, 11],\n",
       "        [10, 20],\n",
       "        [11, 12],\n",
       "        [11, 21],\n",
       "        [12, 13],\n",
       "        [12, 22],\n",
       "        [13, 23]]),\n",
       " 'catSiCl2': array([[ 0,  1],\n",
       "        [ 0,  2],\n",
       "        [ 0,  3],\n",
       "        [ 0, 10],\n",
       "        [ 3,  4],\n",
       "        [ 4,  5],\n",
       "        [ 4,  9],\n",
       "        [ 5,  6],\n",
       "        [ 5, 11],\n",
       "        [ 6,  7],\n",
       "        [ 6, 12],\n",
       "        [ 7,  8],\n",
       "        [ 7, 13],\n",
       "        [ 8,  9],\n",
       "        [ 8, 14],\n",
       "        [ 9, 10]]),\n",
       " 'ONOTeMe': array([[ 0,  9],\n",
       "        [ 0, 10],\n",
       "        [ 0, 11],\n",
       "        [ 0, 20],\n",
       "        [ 1,  2],\n",
       "        [ 1, 33],\n",
       "        [ 1, 34],\n",
       "        [ 1, 35],\n",
       "        [ 2,  3],\n",
       "        [ 2,  8],\n",
       "        [ 3,  4],\n",
       "        [ 3, 22],\n",
       "        [ 4,  5],\n",
       "        [ 4,  6],\n",
       "        [ 5, 36],\n",
       "        [ 5, 37],\n",
       "        [ 5, 38],\n",
       "        [ 6,  7],\n",
       "        [ 6, 39],\n",
       "        [ 7,  8],\n",
       "        [ 7, 11],\n",
       "        [ 8,  9],\n",
       "        [10, 26],\n",
       "        [10, 27],\n",
       "        [10, 28],\n",
       "        [11, 12],\n",
       "        [12, 13],\n",
       "        [12, 19],\n",
       "        [13, 14],\n",
       "        [13, 21],\n",
       "        [14, 15],\n",
       "        [14, 16],\n",
       "        [15, 29],\n",
       "        [15, 30],\n",
       "        [15, 31],\n",
       "        [16, 17],\n",
       "        [16, 32],\n",
       "        [17, 18],\n",
       "        [17, 19],\n",
       "        [18, 23],\n",
       "        [18, 24],\n",
       "        [18, 25],\n",
       "        [19, 20]])}"
      ]
     },
     "execution_count": 7,
     "metadata": {},
     "output_type": "execute_result"
    }
   ],
   "source": [
    "atom_connectivities"
   ]
  },
  {
   "cell_type": "markdown",
   "id": "ec610519",
   "metadata": {},
   "source": [
    "### By hand"
   ]
  },
  {
   "cell_type": "markdown",
   "id": "1baf5137",
   "metadata": {},
   "source": [
    "**Use ChemDraw (or any other program) to generate 3D structures:**  \n",
    "1) Copy the SMILES string to clipboard  \n",
    "2) Paste it to ChemDraw with Alt+Ctrl+P  \n",
    "3) Do 3D cleanup in ChemDraw (little tetraeder symbol)  \n",
    "4) Mark the entire molecule and copy it to clipboard with Alt+Shift+Ctrl+O  \n",
    "5) Paste it to a file called *.mol"
   ]
  }
 ],
 "metadata": {
  "kernelspec": {
   "display_name": "Python (ml_env_local)",
   "language": "python",
   "name": "ml_env_local"
  },
  "language_info": {
   "codemirror_mode": {
    "name": "ipython",
    "version": 3
   },
   "file_extension": ".py",
   "mimetype": "text/x-python",
   "name": "python",
   "nbconvert_exporter": "python",
   "pygments_lexer": "ipython3",
   "version": "3.10.4"
  }
 },
 "nbformat": 4,
 "nbformat_minor": 5
}
