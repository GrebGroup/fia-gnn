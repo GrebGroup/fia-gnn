{
 "cells": [
  {
   "cell_type": "code",
   "execution_count": 1,
   "id": "78452c44",
   "metadata": {},
   "outputs": [
    {
     "name": "stdout",
     "output_type": "stream",
     "text": [
      "[ccdc_embedder] Main output directory already exists.\n",
      "[ccdc_embedder] Mol file output directory was created.\n"
     ]
    }
   ],
   "source": [
    "import os\n",
    "import json\n",
    "from ccdc_embedder import ccdc_embedder"
   ]
  },
  {
   "cell_type": "code",
   "execution_count": 2,
   "id": "595bda79",
   "metadata": {},
   "outputs": [
    {
     "data": {
      "text/plain": [
       "3"
      ]
     },
     "execution_count": 2,
     "metadata": {},
     "output_type": "execute_result"
    }
   ],
   "source": [
    "# Load the 'manual data', e.g. a dictionary of molecule names and SMILES strings\n",
    "with open(r\"manual_pams_inp\\manual_pams_example_input.json\", \"r\") as f:\n",
    "    manual_data = json.load(f)\n",
    "len(manual_data)"
   ]
  },
  {
   "cell_type": "code",
   "execution_count": 3,
   "id": "dbab7bbd",
   "metadata": {},
   "outputs": [
    {
     "data": {
      "text/plain": [
       "2"
      ]
     },
     "execution_count": 3,
     "metadata": {},
     "output_type": "execute_result"
    }
   ],
   "source": [
    "# Check which structures were already successfully generated\n",
    "already_done = [file.split(\".\")[0] for file in os.listdir(r\"manual_pams_out\\xyz_out\")]\n",
    "len(already_done)"
   ]
  },
  {
   "cell_type": "code",
   "execution_count": 4,
   "id": "243b3d56",
   "metadata": {},
   "outputs": [
    {
     "name": "stdout",
     "output_type": "stream",
     "text": [
      "---------------------------------------------------------\n",
      "[ccdc_embedder] Working on ONOTeMe\n",
      "---------------------------------------------------------\n",
      "    [ccdc_embedder] 3D embedding was successful.\n",
      "\n"
     ]
    }
   ],
   "source": [
    "# Run embedding with CCDC\n",
    "for name, smiles in manual_data.items():\n",
    "    if name not in already_done:\n",
    "        _ = ccdc_embedder(\n",
    "            name=name,\n",
    "            smiles=smiles\n",
    "        )"
   ]
  },
  {
   "cell_type": "code",
   "execution_count": null,
   "id": "c1fa1b7b",
   "metadata": {},
   "outputs": [],
   "source": []
  }
 ],
 "metadata": {
  "kernelspec": {
   "display_name": "base",
   "language": "python",
   "name": "base"
  },
  "language_info": {
   "codemirror_mode": {
    "name": "ipython",
    "version": 3
   },
   "file_extension": ".py",
   "mimetype": "text/x-python",
   "name": "python",
   "nbconvert_exporter": "python",
   "pygments_lexer": "ipython3",
   "version": "3.7.12"
  }
 },
 "nbformat": 4,
 "nbformat_minor": 5
}
