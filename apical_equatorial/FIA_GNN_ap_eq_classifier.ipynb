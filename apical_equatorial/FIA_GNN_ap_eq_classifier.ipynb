{
 "cells": [
  {
   "cell_type": "code",
   "execution_count": 1,
   "id": "589799ce",
   "metadata": {},
   "outputs": [],
   "source": [
    "import json\n",
    "import numpy as np  # 1.23.5\n",
    "import pandas as pd  # 1.5.0\n",
    "import matplotlib.pyplot as plt  # 3.6.2\n",
    "import seaborn as sns  # 0.12.0\n",
    "\n",
    "from tqdm.auto import tqdm\n",
    "from zipfile import ZipFile\n",
    "from valence_angle import ValenceAngle\n",
    "\n",
    "from sklearn.discriminant_analysis import LinearDiscriminantAnalysis  # 1.2.2"
   ]
  },
  {
   "cell_type": "markdown",
   "id": "c0d334da",
   "metadata": {},
   "source": [
    "# 1) Load and prepare the data"
   ]
  },
  {
   "cell_type": "code",
   "execution_count": 2,
   "id": "50e07921",
   "metadata": {},
   "outputs": [
    {
     "data": {
      "text/plain": [
       "(48986, 57)"
      ]
     },
     "execution_count": 2,
     "metadata": {},
     "output_type": "execute_result"
    }
   ],
   "source": [
    "# Load data.\n",
    "\n",
    "df = pd.read_csv(r\"F:\\FIA_GENERATION\\for_publication\\FINAL\\FIA49k.csv.gz\")\n",
    "df.shape"
   ]
  },
  {
   "cell_type": "code",
   "execution_count": 3,
   "id": "e861bb6b",
   "metadata": {},
   "outputs": [
    {
     "data": {
      "text/plain": [
       "(10204, 57)"
      ]
     },
     "execution_count": 3,
     "metadata": {},
     "output_type": "execute_result"
    }
   ],
   "source": [
    "# Limit the data set to high-valent group 14 atom-based data points.\n",
    "\n",
    "df = df[df[\"ca_group\"] == 14]\n",
    "df = df[df[\"Compound\"].str.contains(\"_4_\")]\n",
    "df.shape"
   ]
  },
  {
   "cell_type": "code",
   "execution_count": 4,
   "id": "22c80231",
   "metadata": {},
   "outputs": [
    {
     "data": {
      "text/plain": [
       "10204"
      ]
     },
     "execution_count": 4,
     "metadata": {},
     "output_type": "execute_result"
    }
   ],
   "source": [
    "# Load relevant xyz structures.\n",
    "\n",
    "relevant_xyz_data = {}\n",
    "\n",
    "with ZipFile(r\"F:\\FIA_GENERATION\\for_publication\\FINAL\\FIA49k.zip\", \"r\") as zip_ref:\n",
    "    for file_name in zip_ref.namelist():\n",
    "        if file_name.endswith(\".json\"):\n",
    "            with zip_ref.open(file_name) as f:\n",
    "                xyz_data = json.loads(f.read().decode(\"utf-8\"))\n",
    "                \n",
    "                for name, data in xyz_data.items():\n",
    "                    if name in list(df.Compound):\n",
    "                        relevant_xyz_data[name] = data[\"fa-PBEh3c\"].split(\"\\n\")\n",
    "\n",
    "len(relevant_xyz_data)"
   ]
  },
  {
   "cell_type": "markdown",
   "id": "57961d1a",
   "metadata": {},
   "source": [
    "# 2) Get the largest F-central_atom-X angle"
   ]
  },
  {
   "cell_type": "code",
   "execution_count": 5,
   "id": "04d20e8f",
   "metadata": {},
   "outputs": [
    {
     "data": {
      "application/vnd.jupyter.widget-view+json": {
       "model_id": "38f160a605ad4601938f081c9ab64eb0",
       "version_major": 2,
       "version_minor": 0
      },
      "text/plain": [
       "  0%|          | 0/10204 [00:00<?, ?it/s]"
      ]
     },
     "metadata": {},
     "output_type": "display_data"
    },
    {
     "data": {
      "text/plain": [
       "(10204, 10204)"
      ]
     },
     "execution_count": 5,
     "metadata": {},
     "output_type": "execute_result"
    }
   ],
   "source": [
    "# Get the angle and classify the data either as \"apical\" or \"equatorial\".\n",
    "\n",
    "angles = []\n",
    "angle_classification = []\n",
    "\n",
    "for compound, xyz_coords in tqdm(relevant_xyz_data.items()):\n",
    "    angle_analysis = ValenceAngle(xyz_coords)\n",
    "    angle_analysis.get_element_F_angles()\n",
    "    angles.append(angle_analysis.max_fluoride_valence_angle)\n",
    "    \n",
    "    if angle_analysis.max_fluoride_valence_angle > 150:\n",
    "        angle_classification.append(\"ap\")\n",
    "    else:\n",
    "        angle_classification.append(\"eq\")\n",
    "\n",
    "len(angles), len(angle_classification)"
   ]
  },
  {
   "cell_type": "code",
   "execution_count": 6,
   "id": "4c86942e",
   "metadata": {},
   "outputs": [
    {
     "data": {
      "text/plain": [
       "(10204, 59)"
      ]
     },
     "execution_count": 6,
     "metadata": {},
     "output_type": "execute_result"
    }
   ],
   "source": [
    "# Add data to df.\n",
    "\n",
    "df[\"max_fluoride_valence_angle\"] = angles\n",
    "df[\"angle_class_label\"] = angle_classification\n",
    "df.shape"
   ]
  },
  {
   "cell_type": "markdown",
   "id": "9e039c4c",
   "metadata": {},
   "source": [
    "# 3) Make plots"
   ]
  },
  {
   "cell_type": "code",
   "execution_count": 7,
   "id": "6c4681dc",
   "metadata": {},
   "outputs": [
    {
     "data": {
      "text/plain": [
       "(9138, 59)"
      ]
     },
     "execution_count": 7,
     "metadata": {},
     "output_type": "execute_result"
    }
   ],
   "source": [
    "# Make the plots only for the FIA44k data set.\n",
    "\n",
    "df_fia44k = df[df[\"mol_type\"] == \"fia44k\"]\n",
    "df_fia44k.shape"
   ]
  },
  {
   "cell_type": "code",
   "execution_count": 8,
   "id": "6b3f5bf8",
   "metadata": {},
   "outputs": [
    {
     "name": "stderr",
     "output_type": "stream",
     "text": [
      "C:\\Users\\lukas\\AppData\\Local\\Temp\\ipykernel_17748\\1766683382.py:3: UserWarning: The palette list has more values (8) than needed (3), which may not be intended.\n",
      "  ax = sns.histplot(\n",
      "C:\\Users\\lukas\\Anaconda3\\envs\\ml_env_local\\lib\\site-packages\\seaborn\\distributions.py:269: FutureWarning: In a future version, `df.iloc[:, i] = newvals` will attempt to set the values inplace instead of always setting a new array. To retain the old behavior, use either `df[df.columns[i]] = newvals` or, if columns are non-unique, `df.isetitem(i, newvals)`\n",
      "  baselines.iloc[:, cols] = (curves\n"
     ]
    },
    {
     "data": {
      "image/png": "[encoded data removed]",
      "text/plain": [
       "<Figure size 640x480 with 1 Axes>"
      ]
     },
     "metadata": {},
     "output_type": "display_data"
    }
   ],
   "source": [
    "# Plot 1.\n",
    "\n",
    "ax = sns.histplot(\n",
    "    data=df_fia44k, \n",
    "    x=\"max_fluoride_valence_angle\",\n",
    "    binwidth=2,\n",
    "    hue=\"denticity_class\",\n",
    "    hue_order=[\"mono\", \"bi\", \"tri\"],\n",
    "    multiple=\"stack\",\n",
    "    palette=sns.color_palette(\"Dark2\")\n",
    ")\n",
    "\n",
    "plt.xlabel(\"Maximum F-CA-X angle / °\")\n",
    "ax.legend_.set_title(\"Denticity class\")"
   ]
  },
  {
   "cell_type": "code",
   "execution_count": 9,
   "id": "a2db1d8f",
   "metadata": {},
   "outputs": [
    {
     "name": "stderr",
     "output_type": "stream",
     "text": [
      "C:\\Users\\lukas\\AppData\\Local\\Temp\\ipykernel_17748\\995309854.py:3: UserWarning: The palette list has more values (8) than needed (4), which may not be intended.\n",
      "  ax = sns.histplot(\n",
      "C:\\Users\\lukas\\Anaconda3\\envs\\ml_env_local\\lib\\site-packages\\seaborn\\distributions.py:269: FutureWarning: In a future version, `df.iloc[:, i] = newvals` will attempt to set the values inplace instead of always setting a new array. To retain the old behavior, use either `df[df.columns[i]] = newvals` or, if columns are non-unique, `df.isetitem(i, newvals)`\n",
      "  baselines.iloc[:, cols] = (curves\n"
     ]
    },
    {
     "data": {
      "image/png": "[encoded data removed]",
      "text/plain": [
       "<Figure size 640x480 with 1 Axes>"
      ]
     },
     "metadata": {},
     "output_type": "display_data"
    }
   ],
   "source": [
    "# Plot 2.\n",
    "\n",
    "ax = sns.histplot(\n",
    "    data=df_fia44k, \n",
    "    x=\"max_fluoride_valence_angle\",\n",
    "    binwidth=2,\n",
    "    hue=\"ca_class\",\n",
    "    hue_order=[\"Si(IV)\", \"Ge(IV)\", \"Sn(IV)\", \"Pb(IV)\"],\n",
    "    multiple=\"stack\",\n",
    "    palette=sns.color_palette(\"Dark2\")\n",
    ")\n",
    "\n",
    "plt.xlabel(\"Maximum F-CA-X angle / °\")\n",
    "ax.legend_.set_title(\"Central atom class\")"
   ]
  },
  {
   "cell_type": "markdown",
   "id": "cfc54745",
   "metadata": {},
   "source": [
    "# 4) Calculate class sizes and average FIA values"
   ]
  },
  {
   "cell_type": "code",
   "execution_count": 10,
   "id": "293af196",
   "metadata": {},
   "outputs": [],
   "source": [
    "# Counts.\n",
    "counts = dict(df_fia44k.groupby([\"angle_class_label\"])[\"fia_gas-DSDBLYP\"].count())\n",
    "\n",
    "# Average FIA_gas.\n",
    "average_fia_gas = dict(df_fia44k.groupby([\"angle_class_label\"])[\"fia_gas-DSDBLYP\"].mean())\n",
    "\n",
    "# Average FIA_solv.\n",
    "average_fia_solv = dict(df_fia44k.groupby([\"angle_class_label\"])[\"fia_solv-DSDBLYP\"].mean())"
   ]
  },
  {
   "cell_type": "code",
   "execution_count": 11,
   "id": "4a2d81ee",
   "metadata": {},
   "outputs": [
    {
     "name": "stdout",
     "output_type": "stream",
     "text": [
      "------------\n",
      "Distribution\n",
      "------------\n",
      "apical:       0.7535565769314948\n",
      "equatorial:   0.24644342306850514\n",
      "\n",
      "---------------\n",
      "Average FIA_gas\n",
      "---------------\n",
      "apical:       289.9444381440076\n",
      "equatorial:   327.3551426797189\n",
      "\n",
      "----------------\n",
      "Average FIA_solv\n",
      "----------------\n",
      "apical:       102.32407157415574\n",
      "equatorial:   133.9753627507668\n",
      "\n",
      "-----------\n",
      "Differences\n",
      "-----------\n",
      "FIA_gas:      37.41070453571126\n",
      "FIA_solv:     31.651291176611068\n"
     ]
    }
   ],
   "source": [
    "print(\"------------\")\n",
    "print(\"Distribution\")\n",
    "print(\"------------\")\n",
    "print(f\"apical:       {counts['ap'] / sum(counts.values())}\")\n",
    "print(f\"equatorial:   {counts['eq'] / sum(counts.values())}\")\n",
    "print()\n",
    "print(\"---------------\")\n",
    "print(\"Average FIA_gas\")\n",
    "print(\"---------------\")\n",
    "print(f\"apical:       {average_fia_gas['ap']}\")\n",
    "print(f\"equatorial:   {average_fia_gas['eq']}\")\n",
    "print()\n",
    "print(\"----------------\")\n",
    "print(\"Average FIA_solv\")\n",
    "print(\"----------------\")\n",
    "print(f\"apical:       {average_fia_solv['ap']}\")\n",
    "print(f\"equatorial:   {average_fia_solv['eq']}\")\n",
    "print()\n",
    "print(\"-----------\")\n",
    "print(\"Differences\")\n",
    "print(\"-----------\")\n",
    "print(f\"FIA_gas:      {average_fia_gas['eq']-average_fia_gas['ap']}\")\n",
    "print(f\"FIA_solv:     {average_fia_solv['eq']-average_fia_solv['ap']}\")"
   ]
  },
  {
   "cell_type": "markdown",
   "id": "cd615be6",
   "metadata": {},
   "source": [
    "# 5) Train classifier"
   ]
  },
  {
   "cell_type": "code",
   "execution_count": 12,
   "id": "829a35dc",
   "metadata": {},
   "outputs": [
    {
     "data": {
      "text/plain": [
       "(10204, 321)"
      ]
     },
     "execution_count": 12,
     "metadata": {},
     "output_type": "execute_result"
    }
   ],
   "source": [
    "# Load FIA-GNN molecular representations.\n",
    "\n",
    "fia_gnn_embeddings = pd.read_csv(r\"F:\\FIA_GENERATION\\for_publication\\FINAL\\FIA49k_fia_gnn_embeddings.csv.gz\")\n",
    "fia_gnn_embeddings = fia_gnn_embeddings[fia_gnn_embeddings[\"Compound\"].isin(df[\"Compound\"])]\n",
    "fia_gnn_embeddings.shape"
   ]
  },
  {
   "cell_type": "code",
   "execution_count": 13,
   "id": "adc76d92",
   "metadata": {},
   "outputs": [
    {
     "data": {
      "text/plain": [
       "(10204, 35)"
      ]
     },
     "execution_count": 13,
     "metadata": {},
     "output_type": "execute_result"
    }
   ],
   "source": [
    "# Formatting.\n",
    "\n",
    "fia_gnn_embeddings = fia_gnn_embeddings.drop([col for col in fia_gnn_embeddings.columns if \"vec32_gas_\" not in col and \"Compound\" not in col], axis=1)\n",
    "fia_gnn_embeddings = fia_gnn_embeddings.merge(df[[\"Compound\", \"set_assignment\", \"angle_class_label\"]], on=\"Compound\")\n",
    "fia_gnn_embeddings.shape"
   ]
  },
  {
   "cell_type": "code",
   "execution_count": 14,
   "id": "ee0665c6",
   "metadata": {},
   "outputs": [
    {
     "data": {
      "text/plain": [
       "((6662, 32), (6662,), (1358, 32), (1358,))"
      ]
     },
     "execution_count": 14,
     "metadata": {},
     "output_type": "execute_result"
    }
   ],
   "source": [
    "# Get features and labels.\n",
    "\n",
    "X_train = fia_gnn_embeddings.loc[fia_gnn_embeddings[\"set_assignment\"] == \"train\"]\n",
    "X_test = fia_gnn_embeddings.loc[fia_gnn_embeddings[\"set_assignment\"] == \"test\"]\n",
    "\n",
    "y_train = X_train[\"angle_class_label\"]\n",
    "y_test = X_test[\"angle_class_label\"]\n",
    "\n",
    "to_be_droped = [col for col in list(fia_gnn_embeddings.columns) if all([not col.startswith(\"vec32_gas_\")])]\n",
    "\n",
    "X_train = X_train.drop(to_be_droped, axis=1)\n",
    "X_test = X_test.drop(to_be_droped, axis=1)\n",
    "\n",
    "X_train.shape, y_train.shape, X_test.shape, y_test.shape"
   ]
  },
  {
   "cell_type": "code",
   "execution_count": 15,
   "id": "11c2238e",
   "metadata": {},
   "outputs": [
    {
     "data": {
      "text/html": [
       "<style>#sk-container-id-1 {color: black;background-color: white;}#sk-container-id-1 pre{padding: 0;}#sk-container-id-1 div.sk-toggleable {background-color: white;}#sk-container-id-1 label.sk-toggleable__label {cursor: pointer;display: block;width: 100%;margin-bottom: 0;padding: 0.3em;box-sizing: border-box;text-align: center;}#sk-container-id-1 label.sk-toggleable__label-arrow:before {content: \"▸\";float: left;margin-right: 0.25em;color: #696969;}#sk-container-id-1 label.sk-toggleable__label-arrow:hover:before {color: black;}#sk-container-id-1 div.sk-estimator:hover label.sk-toggleable__label-arrow:before {color: black;}#sk-container-id-1 div.sk-toggleable__content {max-height: 0;max-width: 0;overflow: hidden;text-align: left;background-color: #f0f8ff;}#sk-container-id-1 div.sk-toggleable__content pre {margin: 0.2em;color: black;border-radius: 0.25em;background-color: #f0f8ff;}#sk-container-id-1 input.sk-toggleable__control:checked~div.sk-toggleable__content {max-height: 200px;max-width: 100%;overflow: auto;}#sk-container-id-1 input.sk-toggleable__control:checked~label.sk-toggleable__label-arrow:before {content: \"▾\";}#sk-container-id-1 div.sk-estimator input.sk-toggleable__control:checked~label.sk-toggleable__label {background-color: #d4ebff;}#sk-container-id-1 div.sk-label input.sk-toggleable__control:checked~label.sk-toggleable__label {background-color: #d4ebff;}#sk-container-id-1 input.sk-hidden--visually {border: 0;clip: rect(1px 1px 1px 1px);clip: rect(1px, 1px, 1px, 1px);height: 1px;margin: -1px;overflow: hidden;padding: 0;position: absolute;width: 1px;}#sk-container-id-1 div.sk-estimator {font-family: monospace;background-color: #f0f8ff;border: 1px dotted black;border-radius: 0.25em;box-sizing: border-box;margin-bottom: 0.5em;}#sk-container-id-1 div.sk-estimator:hover {background-color: #d4ebff;}#sk-container-id-1 div.sk-parallel-item::after {content: \"\";width: 100%;border-bottom: 1px solid gray;flex-grow: 1;}#sk-container-id-1 div.sk-label:hover label.sk-toggleable__label {background-color: #d4ebff;}#sk-container-id-1 div.sk-serial::before {content: \"\";position: absolute;border-left: 1px solid gray;box-sizing: border-box;top: 0;bottom: 0;left: 50%;z-index: 0;}#sk-container-id-1 div.sk-serial {display: flex;flex-direction: column;align-items: center;background-color: white;padding-right: 0.2em;padding-left: 0.2em;position: relative;}#sk-container-id-1 div.sk-item {position: relative;z-index: 1;}#sk-container-id-1 div.sk-parallel {display: flex;align-items: stretch;justify-content: center;background-color: white;position: relative;}#sk-container-id-1 div.sk-item::before, #sk-container-id-1 div.sk-parallel-item::before {content: \"\";position: absolute;border-left: 1px solid gray;box-sizing: border-box;top: 0;bottom: 0;left: 50%;z-index: -1;}#sk-container-id-1 div.sk-parallel-item {display: flex;flex-direction: column;z-index: 1;position: relative;background-color: white;}#sk-container-id-1 div.sk-parallel-item:first-child::after {align-self: flex-end;width: 50%;}#sk-container-id-1 div.sk-parallel-item:last-child::after {align-self: flex-start;width: 50%;}#sk-container-id-1 div.sk-parallel-item:only-child::after {width: 0;}#sk-container-id-1 div.sk-dashed-wrapped {border: 1px dashed gray;margin: 0 0.4em 0.5em 0.4em;box-sizing: border-box;padding-bottom: 0.4em;background-color: white;}#sk-container-id-1 div.sk-label label {font-family: monospace;font-weight: bold;display: inline-block;line-height: 1.2em;}#sk-container-id-1 div.sk-label-container {text-align: center;}#sk-container-id-1 div.sk-container {/* jupyter's `normalize.less` sets `[hidden] { display: none; }` but bootstrap.min.css set `[hidden] { display: none !important; }` so we also need the `!important` here to be able to override the default hidden behavior on the sphinx rendered scikit-learn.org. See: https://github.com/scikit-learn/scikit-learn/issues/21755 */display: inline-block !important;position: relative;}#sk-container-id-1 div.sk-text-repr-fallback {display: none;}</style><div id=\"sk-container-id-1\" class=\"sk-top-container\"><div class=\"sk-text-repr-fallback\"><pre>LinearDiscriminantAnalysis()</pre><b>In a Jupyter environment, please rerun this cell to show the HTML representation or trust the notebook. <br />On GitHub, the HTML representation is unable to render, please try loading this page with nbviewer.org.</b></div><div class=\"sk-container\" hidden><div class=\"sk-item\"><div class=\"sk-estimator sk-toggleable\"><input class=\"sk-toggleable__control sk-hidden--visually\" id=\"sk-estimator-id-1\" type=\"checkbox\" checked><label for=\"sk-estimator-id-1\" class=\"sk-toggleable__label sk-toggleable__label-arrow\">LinearDiscriminantAnalysis</label><div class=\"sk-toggleable__content\"><pre>LinearDiscriminantAnalysis()</pre></div></div></div></div></div>"
      ],
      "text/plain": [
       "LinearDiscriminantAnalysis()"
      ]
     },
     "execution_count": 15,
     "metadata": {},
     "output_type": "execute_result"
    }
   ],
   "source": [
    "# Train model (A LazyClassifier (https://lazypredict.readthedocs.io/en/latest/) was used to indentify LDA as the best model.).\n",
    "\n",
    "classifier = LinearDiscriminantAnalysis()\n",
    "classifier.fit(X_train, y_train)"
   ]
  },
  {
   "cell_type": "code",
   "execution_count": 16,
   "id": "93207347",
   "metadata": {},
   "outputs": [],
   "source": [
    "# Make predictions for the test set.\n",
    "\n",
    "predictions = classifier.predict(X_test)"
   ]
  },
  {
   "cell_type": "code",
   "execution_count": 17,
   "id": "1b28a858",
   "metadata": {},
   "outputs": [
    {
     "name": "stdout",
     "output_type": "stream",
     "text": [
      "Accuracy: 0.7864506627393225\n"
     ]
    }
   ],
   "source": [
    "# Analyze predictions.\n",
    "\n",
    "correct = 0\n",
    "\n",
    "for true, pred in zip(y_test, predictions):\n",
    "    if true == pred:\n",
    "        correct += 1\n",
    "\n",
    "print(f\"Accuracy: {correct/len(y_test)}\")"
   ]
  },
  {
   "cell_type": "code",
   "execution_count": 18,
   "id": "ec39bd74",
   "metadata": {},
   "outputs": [
    {
     "data": {
      "text/plain": [
       "(4, 32)"
      ]
     },
     "execution_count": 18,
     "metadata": {},
     "output_type": "execute_result"
    }
   ],
   "source": [
    "# Make predictions for bis(catecholato)silanes and -germanes.\n",
    "\n",
    "cat_df = fia_gnn_embeddings[fia_gnn_embeddings[\"Compound\"].isin([\n",
    "    \"Si_4_DB000021\", # (Cl_cat)2Si\n",
    "    \"Si_4_DB000042\", # (F_cat)2Si\n",
    "    \"Ge_4_DB000022\", # (Cl_cat)2Ge\n",
    "    \"Ge_4_DB000043\", # (F_cat)2Ge\n",
    "])]\n",
    "\n",
    "cat_df = cat_df.drop(to_be_droped, axis=1)\n",
    "cat_df.shape"
   ]
  },
  {
   "cell_type": "code",
   "execution_count": 19,
   "id": "07e18d20",
   "metadata": {},
   "outputs": [
    {
     "data": {
      "text/plain": [
       "array(['eq', 'eq', 'eq', 'eq'], dtype='<U2')"
      ]
     },
     "execution_count": 19,
     "metadata": {},
     "output_type": "execute_result"
    }
   ],
   "source": [
    "# Predict.\n",
    "\n",
    "classifier.predict(cat_df)"
   ]
  },
  {
   "cell_type": "code",
   "execution_count": 20,
   "id": "6d9fb108",
   "metadata": {},
   "outputs": [
    {
     "data": {
      "text/plain": [
       "array([[0.13201557, 0.86798443],\n",
       "       [0.21651483, 0.78348517],\n",
       "       [0.08635714, 0.91364286],\n",
       "       [0.32905506, 0.67094494]])"
      ]
     },
     "execution_count": 20,
     "metadata": {},
     "output_type": "execute_result"
    }
   ],
   "source": [
    "# Predict.\n",
    "\n",
    "classifier.predict_proba(cat_df)"
   ]
  }
 ],
 "metadata": {
  "kernelspec": {
   "display_name": "Python (ml_env_local)",
   "language": "python",
   "name": "ml_env_local"
  },
  "language_info": {
   "codemirror_mode": {
    "name": "ipython",
    "version": 3
   },
   "file_extension": ".py",
   "mimetype": "text/x-python",
   "name": "python",
   "nbconvert_exporter": "python",
   "pygments_lexer": "ipython3",
   "version": "3.10.4"
  }
 },
 "nbformat": 4,
 "nbformat_minor": 5
}
