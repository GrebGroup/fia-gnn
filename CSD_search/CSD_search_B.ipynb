{
 "cells": [
  {
   "cell_type": "code",
   "execution_count": null,
   "id": "50d35da9",
   "metadata": {},
   "outputs": [],
   "source": [
    "import json\n",
    "from rdkit import Chem\n",
    "\n",
    "from helper_functions_csd_search import (check_bonds, \n",
    "                                         check_neighbors, \n",
    "                                         check_unpaired_electrons, \n",
    "                                         check_isotope, \n",
    "                                         get_picks)\n",
    "\n",
    "from rdkit import RDLogger   \n",
    "RDLogger.DisableLog('rdApp.*')\n",
    "\n",
    "import warnings\n",
    "warnings.filterwarnings('ignore')"
   ]
  },
  {
   "cell_type": "markdown",
   "id": "7f881b37",
   "metadata": {},
   "source": [
    "# 1) Filter data"
   ]
  },
  {
   "cell_type": "code",
   "execution_count": null,
   "id": "442a3243",
   "metadata": {},
   "outputs": [],
   "source": [
    "# Load the extracted raw data\n",
    "\n",
    "with open(\"results_la_csd_search.json\", \"r\") as f:\n",
    "    results_la = json.load(f)"
   ]
  },
  {
   "cell_type": "code",
   "execution_count": null,
   "id": "88d89c4c",
   "metadata": {},
   "outputs": [],
   "source": [
    "# Do the filtering\n",
    "\n",
    "all_rdkit_smiles = []\n",
    "\n",
    "counter_pass = 0\n",
    "for central_atom in results_la:\n",
    "    s = central_atom.split(\"_\")\n",
    "    central_atom_symbol = s[0]\n",
    "    neighbor_count = int(s[1])\n",
    "    \n",
    "    for identifier in results_la[central_atom]:\n",
    "        error = \"pass\"\n",
    "        mol = Chem.MolFromSmiles(results_la[central_atom][identifier][\"processed_smiles\"])\n",
    "        \n",
    "        if mol:\n",
    "            mol = Chem.AddHs(mol)\n",
    "            atom_count = len(mol.GetAtoms())\n",
    "            rdkit_smiles = Chem.MolToSmiles(mol)\n",
    "\n",
    "            # Check for duplications\n",
    "            if rdkit_smiles in all_rdkit_smiles:\n",
    "                error = \"This is a duplication.\"\n",
    "            else:\n",
    "                all_rdkit_smiles.append(rdkit_smiles)\n",
    "            \n",
    "            # Check for unpaired electrons\n",
    "            message = check_unpaired_electrons(mol, central_atom_symbol)\n",
    "            if message != \"pass\":\n",
    "                error = message\n",
    "            \n",
    "            # Check for triple bonds\n",
    "            for bond in mol.GetBonds():\n",
    "                if bond.GetBondTypeAsDouble() > 2:\n",
    "                    error = \"Bond order > 2 contained.\"\n",
    "                    break\n",
    "            \n",
    "            # Check for hetero_atom-hetero_atom bonds\n",
    "            if check_bonds(mol):\n",
    "                error = \"Hetero atom - hetero atom bond contained.\"\n",
    "            \n",
    "            # Check if desired amount of atoms is around central atom\n",
    "            reject, found_neighbor_count = check_neighbors(mol, neighbor_count, central_atom_symbol)\n",
    "            if reject:\n",
    "                error = f\"Central atom '{central_atom_symbol}' has wrong amount of neighbors (should: {neighbor_count}, is: {found_neighbor_count})\"\n",
    "            \n",
    "            # Check for isotopes\n",
    "            if check_isotope(mol):\n",
    "                error = \"Unwanted isotopes contained.\"\n",
    "                \n",
    "            # Check number of atoms\n",
    "            if atom_count > 120:\n",
    "                error = \"This molecule is too large.\"\n",
    "            \n",
    "        else:\n",
    "            error = \"Smiles cannt be converted to an rdkit mol object.\"\n",
    "            rdkit_smiles = None\n",
    "            atom_count = None\n",
    "        \n",
    "        if error == \"pass\":\n",
    "            counter_pass += 1\n",
    "\n",
    "        results_la[central_atom][identifier][\"status\"] = error\n",
    "        results_la[central_atom][identifier][\"rdkit_smiles\"] = rdkit_smiles\n",
    "        results_la[central_atom][identifier][\"atom_count\"] = atom_count\n",
    "\n",
    "counter_pass"
   ]
  },
  {
   "cell_type": "code",
   "execution_count": null,
   "id": "99209e90",
   "metadata": {},
   "outputs": [],
   "source": [
    "# Save results.\n",
    "\n",
    "with open(\"results_la_csd_search.json\", \"w\") as f:\n",
    "    json.dump(results_la, f, indent=4)"
   ]
  },
  {
   "cell_type": "markdown",
   "id": "2376e7e3",
   "metadata": {},
   "source": [
    "# 2) Pick data points"
   ]
  },
  {
   "cell_type": "code",
   "execution_count": null,
   "id": "7ad2c158",
   "metadata": {},
   "outputs": [],
   "source": [
    "with open(\"results_la_csd_search.json\", \"r\") as f:\n",
    "    results_la = json.load(f)"
   ]
  },
  {
   "cell_type": "code",
   "execution_count": null,
   "id": "cc1977da",
   "metadata": {},
   "outputs": [],
   "source": [
    "N_SAMPLE_PER_CA = 500\n",
    "\n",
    "for central_atom  in results_la:\n",
    "    print(f\"Working on {central_atom} ...\")\n",
    "    subset = {identifier: results_la[central_atom][identifier] \n",
    "          for identifier in results_la[central_atom] \n",
    "          if results_la[central_atom][identifier][\"status\"] == \"pass\"\n",
    "          # lone pairs at group 14 atoms (e.g. Si(II)) are defined as unpaired electrons within RDKit\n",
    "          # this should not lead to an exlusion of this molecule\n",
    "          or results_la[central_atom][identifier][\"status\"] == \"Unpaired electron(s) at central atom contained.\"\n",
    "         }\n",
    "    \n",
    "    if len(subset) > N_SAMPLE_PER_CA:\n",
    "        print(\"picking a subset ...\")\n",
    "        picks = get_picks(subset, n_picks=N_SAMPLE_PER_CA)\n",
    "    else:\n",
    "        print(\"picking all ...\")\n",
    "        picks = list(subset.keys())\n",
    "        \n",
    "    for identifier in results_la[central_atom]:\n",
    "        if identifier in picks and identifier in subset:\n",
    "            results_la[central_atom][identifier][\"picked\"] = True\n",
    "        else:\n",
    "            results_la[central_atom][identifier][\"picked\"] = False\n",
    "    \n",
    "    print(f\"{len(picks)} compounds were picked.\")\n",
    "    print()"
   ]
  },
  {
   "cell_type": "code",
   "execution_count": null,
   "id": "542c1fb7",
   "metadata": {},
   "outputs": [],
   "source": [
    "with open(\"results_la_csd_search.json\", \"w\") as f:\n",
    "    json.dump(results_la, f, indent=4)"
   ]
  },
  {
   "cell_type": "markdown",
   "id": "4b1bf557",
   "metadata": {},
   "source": [
    "# 3) Embedding "
   ]
  },
  {
   "cell_type": "code",
   "execution_count": null,
   "id": "1ec61861",
   "metadata": {},
   "outputs": [],
   "source": [
    "import os\n",
    "import glob\n",
    "import json\n",
    "from ccdc import io\n",
    "from ccdc import conformer\n",
    "from ccdc.molecule import Molecule"
   ]
  },
  {
   "cell_type": "code",
   "execution_count": null,
   "id": "6463eea3",
   "metadata": {},
   "outputs": [],
   "source": [
    "with open(\"results_la_csd_search.json\", \"r\") as f:\n",
    "    results_la = json.load(f)"
   ]
  },
  {
   "cell_type": "code",
   "execution_count": null,
   "id": "31e7b885",
   "metadata": {},
   "outputs": [],
   "source": [
    "for central_atom in results_la:\n",
    "    print(f\"Working on {central_atom} ...\")\n",
    "    for identifier in results_la[central_atom]:\n",
    "        if results_la[central_atom][identifier][\"picked\"]:\n",
    "            name = f\"{central_atom}_CSD-{identifier}\"\n",
    "            \n",
    "            if not os.path.isfile(os.path.join(\"xyz_out\", f\"{name}.mol\")):\n",
    "                conformer_generator = conformer.ConformerGenerator()\n",
    "                conformer_generator.settings.max_conformers = 1\n",
    "                mol = Molecule.from_string(results_la[central_atom][identifier][\"rdkit_smiles\"])\n",
    "                conformers = conformer_generator.generate(mol)\n",
    "\n",
    "                if conformers[0].molecule.all_atoms_have_sites:\n",
    "                    with io.EntryWriter(os.path.join(\"xyz_out\", f\"{name}.mol\")) as f:\n",
    "                        f.write(conformers[0].molecule)\n",
    "                else:\n",
    "                    print(f\"Embedding of {name} failed.\")\n",
    "    print()"
   ]
  },
  {
   "cell_type": "code",
   "execution_count": null,
   "id": "70aa57f7",
   "metadata": {},
   "outputs": [],
   "source": [
    "all_successful = []\n",
    "for file in glob.glob(os.path.join(\"xyz_out\", \"*.mol\")):\n",
    "    name = os.path.basename(file).split(\".\")[0]\n",
    "    identifier = name.split(\"-\")[-1]\n",
    "    all_successful.append(identifier)"
   ]
  },
  {
   "cell_type": "code",
   "execution_count": null,
   "id": "91c95c28",
   "metadata": {},
   "outputs": [],
   "source": [
    "for central_atom in results_la:\n",
    "    for identifier in results_la[central_atom]:\n",
    "        if results_la[central_atom][identifier][\"picked\"] is True:\n",
    "            if identifier in all_successful:\n",
    "                results_la[central_atom][identifier][\"la_embedded\"] = True\n",
    "            else:\n",
    "                results_la[central_atom][identifier][\"la_embedded\"] = False"
   ]
  },
  {
   "cell_type": "code",
   "execution_count": null,
   "id": "5009b888",
   "metadata": {},
   "outputs": [],
   "source": [
    "with open(\"results_la_csd_search.json\", \"w\") as f:\n",
    "    json.dump(results_la, f, indent=4)"
   ]
  }
 ],
 "metadata": {
  "kernelspec": {
   "display_name": "Python (ml_env_local)",
   "language": "python",
   "name": "ml_env_local"
  },
  "language_info": {
   "codemirror_mode": {
    "name": "ipython",
    "version": 3
   },
   "file_extension": ".py",
   "mimetype": "text/x-python",
   "name": "python",
   "nbconvert_exporter": "python",
   "pygments_lexer": "ipython3",
   "version": "3.10.4"
  }
 },
 "nbformat": 4,
 "nbformat_minor": 5
}
